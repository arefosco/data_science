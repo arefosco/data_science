{
  "nbformat": 4,
  "nbformat_minor": 0,
  "metadata": {
    "colab": {
      "provenance": [],
      "include_colab_link": true
    },
    "kernelspec": {
      "name": "python3",
      "display_name": "Python 3"
    }
  },
  "cells": [
    {
      "cell_type": "markdown",
      "metadata": {
        "id": "view-in-github",
        "colab_type": "text"
      },
      "source": [
        "<a href=\"https://colab.research.google.com/github/arefosco/data_science/blob/master/C%C3%B3pia_de_Projeto_Churn_Prediction_para_uma_empresa_de_Telecomunica%C3%A7%C3%B5es.ipynb\" target=\"_parent\"><img src=\"https://colab.research.google.com/assets/colab-badge.svg\" alt=\"Open In Colab\"/></a>"
      ]
    },
    {
      "cell_type": "markdown",
      "metadata": {
        "id": "sC2BFMOKN1M7"
      },
      "source": [
        "#### **Data Science and Data Analysis**\n",
        "*by [Andre Refosco](https://github.com/arefosco)*\n",
        "\n",
        "\n",
        "[![LinkedIn](https://img.shields.io/badge/LinkedIn-andrerefosco-blue.svg)](https://www.linkedin.com/in/andrerefosco/)  [![GitHub](https://img.shields.io/badge/GitHub-arefosco-brightgreen.svg)](https://github.com/arefosco)\n",
        "---\n",
        "  "
      ]
    },
    {
      "cell_type": "markdown",
      "metadata": {
        "id": "IR56trFcPcC1"
      },
      "source": [
        "# **Churn Prediction**\n",
        "\n",
        "  Churn é caro. Quase sempre custa mais adquirir um novo cliente do que manter um atual e é por isso que há muita motivação para prever isso antes que aconteça.\n",
        "\n",
        "\n",
        "\n",
        "### **O que é Churn Prediction?** ###\n",
        "\n",
        "  Churn prediction prevê quais clientes correm alto risco de deixar sua empresa ou cancelar uma assinatura de um serviço, com base no comportamento deles com seu produto.\n",
        "\n",
        "  Para prever o churn de forma eficaz, você deve sintetizar e utilizar indicadores-chave definidos por sua equipe para sinalizar quando um cliente tem probabilidade de desistir, para que sua empresa possa agir. O objetivo da previsão do churn é ser capaz de responder a perguntas como “O cliente [X] nos deixará em X meses?” ou “O cliente [X] renovará sua assinatura?” e também para entender maiores tendências de churn.\n",
        "\n",
        "<p align=center>\n",
        "<img src=\"https://img.freepik.com/vetores-gratis/proibicao-de-compra-erro-no-site-da-loja-online-cancelamento-de-compra-incapacidade-de-colocacao-de-pedido-limite-de-compra-linha-de-orcamento-personagem-de-desenho-animado-do-comprador-online_335657-1173.jpg?w=1380&t=st=1671554153~exp=1671554753~hmac=e0dbe480b291a0bf47b6c85e9ae220813fa93499e3443c4356ee2a6708f2ef01g\" width=\"60%\"></p>\n",
        "\n",
        "\n",
        "### **Por que Churn Prediction é importante?** ###\n",
        "\n",
        "  De acordo com um estudo feito pela [McKinsey](https://www.mckinsey.com/industries/technology-media-and-telecommunications/our-insights/grow-fast-or-die-slow-focusing-on-customer-success-to-drive-growth), as empresas de tecnologia e *SaaS* com maior desempenho e crescimento de receita também foram empresas com altas taxas de retenção e baixa rotatividade de receita líquida.\n",
        "\n",
        "  A capacidade de prever a rotatividade antes que ela aconteça permite que as empresas tomem ações proativas para evitar que os clientes existentes mudem. Isso pode se parecer com:\n",
        "\n",
        "  * Equipes de sucesso do cliente alcançando esses clientes de alto risco para fornecer suporte ou avaliar quais necessidades podem não estar sendo atendidas;\n",
        "\n",
        "  * Fornecer campanhas de reengajamento mais direcionadas, como e-mails de lembrete;\n",
        "\n",
        "  * Criação de conteúdo de educação do cliente mais focado;\n",
        "\n",
        "  * Reavaliar iniciativas de retenção maiores em toda a empresa, como preços.\n",
        "\n",
        "\n",
        "  Ao prever o churn, você não está apenas identificando clientes em risco, mas também identificando pontos problemáticos que levam ao churn e ajudando a aumentar a retenção e a satisfação geral do cliente. Prever o churn ajuda a prevenir o churn. A prevenção do churn, por sua vez, é uma ótima fonte de receita para as empresas.\n",
        "\n",
        "fonte: https://mode.com/blog/predicting-and-preventing-churn/"
      ]
    },
    {
      "cell_type": "markdown",
      "metadata": {
        "id": "0HVmpIxQWT4Y"
      },
      "source": [
        "## Aquisição dos Dados\n",
        "\n",
        "Os dados utilizados neste projeto foram originalmente disponibilizados na [plataforma de ensino da IBM Developer](https://developer.ibm.com/technologies/data-science/patterns/predict-customer-churn-using-watson-studio-and-jupyter-notebooks/#), e tratam de um problema típico de uma companhia de telecomunicações. O *dataset* completo pode ser encontrado [neste link](https://raw.githubusercontent.com/carlosfab/dsnp2/master/datasets/WA_Fn-UseC_-Telco-Customer-Churn.csv).\n",
        "\n",
        "Apesar de não haver informações explícitas disponíves, os nomes das colunas permitem um entendimento a respeito do problema."
      ]
    },
    {
      "cell_type": "code",
      "source": [
        "# instalar Pandas Profiling\n",
        "!pip install scikit-plot -q\n",
        "!pip install imbalanced-learn -q"
      ],
      "metadata": {
        "id": "MNmSbBe5NWNd"
      },
      "execution_count": null,
      "outputs": []
    },
    {
      "cell_type": "code",
      "metadata": {
        "id": "oQ4bNy7udtEE",
        "colab": {
          "base_uri": "https://localhost:8080/",
          "height": 386
        },
        "outputId": "432a8c39-d3de-40fc-cccf-2521072c3fd2"
      },
      "source": [
        "# import warning filter\n",
        "from warnings import simplefilter\n",
        "# ignore all future warnings\n",
        "simplefilter(action='ignore', category=FutureWarning)\n",
        "\n",
        "# importar os pacotes necessários\n",
        "import pandas as pd\n",
        "import numpy as np\n",
        "import matplotlib.pyplot as plt\n",
        "import seaborn as sns\n",
        "from imblearn.under_sampling import RandomUnderSampler\n",
        "from sklearn.metrics import roc_auc_score, accuracy_score, f1_score, confusion_matrix, classification_report\n",
        "from scikitplot.metrics import plot_confusion_matrix\n",
        "from sklearn.preprocessing import StandardScaler, LabelEncoder\n",
        "from sklearn.pipeline import make_pipeline\n",
        "from sklearn.model_selection import train_test_split\n",
        "from sklearn.model_selection import cross_val_score\n",
        "from sklearn.model_selection import StratifiedKFold\n",
        "from sklearn.model_selection import GridSearchCV\n",
        "from sklearn.svm import SVC\n",
        "from lightgbm import LGBMClassifier\n",
        "from sklearn.linear_model import SGDClassifier\n",
        "from sklearn.tree import DecisionTreeClassifier\n",
        "from sklearn.linear_model import LogisticRegression\n",
        "from xgboost import XGBClassifier\n",
        "from sklearn.ensemble import RandomForestClassifier\n",
        "\n",
        "# random seed\n",
        "np.random.seed(42)\n",
        "\n",
        "# importar os dados\n",
        "DATA_PATH = \"https://raw.githubusercontent.com/carlosfab/dsnp2/master/datasets/WA_Fn-UseC_-Telco-Customer-Churn.csv\"\n",
        "df = pd.read_csv(DATA_PATH)\n",
        "\n",
        "# ver as 5 primeiras entradas\n",
        "df.head()"
      ],
      "execution_count": null,
      "outputs": [
        {
          "output_type": "execute_result",
          "data": {
            "text/plain": [
              "   customerID  gender  SeniorCitizen Partner Dependents  tenure PhoneService  \\\n",
              "0  7590-VHVEG  Female              0     Yes         No       1           No   \n",
              "1  5575-GNVDE    Male              0      No         No      34          Yes   \n",
              "2  3668-QPYBK    Male              0      No         No       2          Yes   \n",
              "3  7795-CFOCW    Male              0      No         No      45           No   \n",
              "4  9237-HQITU  Female              0      No         No       2          Yes   \n",
              "\n",
              "      MultipleLines InternetService OnlineSecurity  ... DeviceProtection  \\\n",
              "0  No phone service             DSL             No  ...               No   \n",
              "1                No             DSL            Yes  ...              Yes   \n",
              "2                No             DSL            Yes  ...               No   \n",
              "3  No phone service             DSL            Yes  ...              Yes   \n",
              "4                No     Fiber optic             No  ...               No   \n",
              "\n",
              "  TechSupport StreamingTV StreamingMovies        Contract PaperlessBilling  \\\n",
              "0          No          No              No  Month-to-month              Yes   \n",
              "1          No          No              No        One year               No   \n",
              "2          No          No              No  Month-to-month              Yes   \n",
              "3         Yes          No              No        One year               No   \n",
              "4          No          No              No  Month-to-month              Yes   \n",
              "\n",
              "               PaymentMethod MonthlyCharges  TotalCharges Churn  \n",
              "0           Electronic check          29.85         29.85    No  \n",
              "1               Mailed check          56.95        1889.5    No  \n",
              "2               Mailed check          53.85        108.15   Yes  \n",
              "3  Bank transfer (automatic)          42.30       1840.75    No  \n",
              "4           Electronic check          70.70        151.65   Yes  \n",
              "\n",
              "[5 rows x 21 columns]"
            ],
            "text/html": [
              "\n",
              "  <div id=\"df-99b1158c-88c4-4cb6-aa04-15ddea090d76\">\n",
              "    <div class=\"colab-df-container\">\n",
              "      <div>\n",
              "<style scoped>\n",
              "    .dataframe tbody tr th:only-of-type {\n",
              "        vertical-align: middle;\n",
              "    }\n",
              "\n",
              "    .dataframe tbody tr th {\n",
              "        vertical-align: top;\n",
              "    }\n",
              "\n",
              "    .dataframe thead th {\n",
              "        text-align: right;\n",
              "    }\n",
              "</style>\n",
              "<table border=\"1\" class=\"dataframe\">\n",
              "  <thead>\n",
              "    <tr style=\"text-align: right;\">\n",
              "      <th></th>\n",
              "      <th>customerID</th>\n",
              "      <th>gender</th>\n",
              "      <th>SeniorCitizen</th>\n",
              "      <th>Partner</th>\n",
              "      <th>Dependents</th>\n",
              "      <th>tenure</th>\n",
              "      <th>PhoneService</th>\n",
              "      <th>MultipleLines</th>\n",
              "      <th>InternetService</th>\n",
              "      <th>OnlineSecurity</th>\n",
              "      <th>...</th>\n",
              "      <th>DeviceProtection</th>\n",
              "      <th>TechSupport</th>\n",
              "      <th>StreamingTV</th>\n",
              "      <th>StreamingMovies</th>\n",
              "      <th>Contract</th>\n",
              "      <th>PaperlessBilling</th>\n",
              "      <th>PaymentMethod</th>\n",
              "      <th>MonthlyCharges</th>\n",
              "      <th>TotalCharges</th>\n",
              "      <th>Churn</th>\n",
              "    </tr>\n",
              "  </thead>\n",
              "  <tbody>\n",
              "    <tr>\n",
              "      <th>0</th>\n",
              "      <td>7590-VHVEG</td>\n",
              "      <td>Female</td>\n",
              "      <td>0</td>\n",
              "      <td>Yes</td>\n",
              "      <td>No</td>\n",
              "      <td>1</td>\n",
              "      <td>No</td>\n",
              "      <td>No phone service</td>\n",
              "      <td>DSL</td>\n",
              "      <td>No</td>\n",
              "      <td>...</td>\n",
              "      <td>No</td>\n",
              "      <td>No</td>\n",
              "      <td>No</td>\n",
              "      <td>No</td>\n",
              "      <td>Month-to-month</td>\n",
              "      <td>Yes</td>\n",
              "      <td>Electronic check</td>\n",
              "      <td>29.85</td>\n",
              "      <td>29.85</td>\n",
              "      <td>No</td>\n",
              "    </tr>\n",
              "    <tr>\n",
              "      <th>1</th>\n",
              "      <td>5575-GNVDE</td>\n",
              "      <td>Male</td>\n",
              "      <td>0</td>\n",
              "      <td>No</td>\n",
              "      <td>No</td>\n",
              "      <td>34</td>\n",
              "      <td>Yes</td>\n",
              "      <td>No</td>\n",
              "      <td>DSL</td>\n",
              "      <td>Yes</td>\n",
              "      <td>...</td>\n",
              "      <td>Yes</td>\n",
              "      <td>No</td>\n",
              "      <td>No</td>\n",
              "      <td>No</td>\n",
              "      <td>One year</td>\n",
              "      <td>No</td>\n",
              "      <td>Mailed check</td>\n",
              "      <td>56.95</td>\n",
              "      <td>1889.5</td>\n",
              "      <td>No</td>\n",
              "    </tr>\n",
              "    <tr>\n",
              "      <th>2</th>\n",
              "      <td>3668-QPYBK</td>\n",
              "      <td>Male</td>\n",
              "      <td>0</td>\n",
              "      <td>No</td>\n",
              "      <td>No</td>\n",
              "      <td>2</td>\n",
              "      <td>Yes</td>\n",
              "      <td>No</td>\n",
              "      <td>DSL</td>\n",
              "      <td>Yes</td>\n",
              "      <td>...</td>\n",
              "      <td>No</td>\n",
              "      <td>No</td>\n",
              "      <td>No</td>\n",
              "      <td>No</td>\n",
              "      <td>Month-to-month</td>\n",
              "      <td>Yes</td>\n",
              "      <td>Mailed check</td>\n",
              "      <td>53.85</td>\n",
              "      <td>108.15</td>\n",
              "      <td>Yes</td>\n",
              "    </tr>\n",
              "    <tr>\n",
              "      <th>3</th>\n",
              "      <td>7795-CFOCW</td>\n",
              "      <td>Male</td>\n",
              "      <td>0</td>\n",
              "      <td>No</td>\n",
              "      <td>No</td>\n",
              "      <td>45</td>\n",
              "      <td>No</td>\n",
              "      <td>No phone service</td>\n",
              "      <td>DSL</td>\n",
              "      <td>Yes</td>\n",
              "      <td>...</td>\n",
              "      <td>Yes</td>\n",
              "      <td>Yes</td>\n",
              "      <td>No</td>\n",
              "      <td>No</td>\n",
              "      <td>One year</td>\n",
              "      <td>No</td>\n",
              "      <td>Bank transfer (automatic)</td>\n",
              "      <td>42.30</td>\n",
              "      <td>1840.75</td>\n",
              "      <td>No</td>\n",
              "    </tr>\n",
              "    <tr>\n",
              "      <th>4</th>\n",
              "      <td>9237-HQITU</td>\n",
              "      <td>Female</td>\n",
              "      <td>0</td>\n",
              "      <td>No</td>\n",
              "      <td>No</td>\n",
              "      <td>2</td>\n",
              "      <td>Yes</td>\n",
              "      <td>No</td>\n",
              "      <td>Fiber optic</td>\n",
              "      <td>No</td>\n",
              "      <td>...</td>\n",
              "      <td>No</td>\n",
              "      <td>No</td>\n",
              "      <td>No</td>\n",
              "      <td>No</td>\n",
              "      <td>Month-to-month</td>\n",
              "      <td>Yes</td>\n",
              "      <td>Electronic check</td>\n",
              "      <td>70.70</td>\n",
              "      <td>151.65</td>\n",
              "      <td>Yes</td>\n",
              "    </tr>\n",
              "  </tbody>\n",
              "</table>\n",
              "<p>5 rows × 21 columns</p>\n",
              "</div>\n",
              "      <button class=\"colab-df-convert\" onclick=\"convertToInteractive('df-99b1158c-88c4-4cb6-aa04-15ddea090d76')\"\n",
              "              title=\"Convert this dataframe to an interactive table.\"\n",
              "              style=\"display:none;\">\n",
              "        \n",
              "  <svg xmlns=\"http://www.w3.org/2000/svg\" height=\"24px\"viewBox=\"0 0 24 24\"\n",
              "       width=\"24px\">\n",
              "    <path d=\"M0 0h24v24H0V0z\" fill=\"none\"/>\n",
              "    <path d=\"M18.56 5.44l.94 2.06.94-2.06 2.06-.94-2.06-.94-.94-2.06-.94 2.06-2.06.94zm-11 1L8.5 8.5l.94-2.06 2.06-.94-2.06-.94L8.5 2.5l-.94 2.06-2.06.94zm10 10l.94 2.06.94-2.06 2.06-.94-2.06-.94-.94-2.06-.94 2.06-2.06.94z\"/><path d=\"M17.41 7.96l-1.37-1.37c-.4-.4-.92-.59-1.43-.59-.52 0-1.04.2-1.43.59L10.3 9.45l-7.72 7.72c-.78.78-.78 2.05 0 2.83L4 21.41c.39.39.9.59 1.41.59.51 0 1.02-.2 1.41-.59l7.78-7.78 2.81-2.81c.8-.78.8-2.07 0-2.86zM5.41 20L4 18.59l7.72-7.72 1.47 1.35L5.41 20z\"/>\n",
              "  </svg>\n",
              "      </button>\n",
              "      \n",
              "  <style>\n",
              "    .colab-df-container {\n",
              "      display:flex;\n",
              "      flex-wrap:wrap;\n",
              "      gap: 12px;\n",
              "    }\n",
              "\n",
              "    .colab-df-convert {\n",
              "      background-color: #E8F0FE;\n",
              "      border: none;\n",
              "      border-radius: 50%;\n",
              "      cursor: pointer;\n",
              "      display: none;\n",
              "      fill: #1967D2;\n",
              "      height: 32px;\n",
              "      padding: 0 0 0 0;\n",
              "      width: 32px;\n",
              "    }\n",
              "\n",
              "    .colab-df-convert:hover {\n",
              "      background-color: #E2EBFA;\n",
              "      box-shadow: 0px 1px 2px rgba(60, 64, 67, 0.3), 0px 1px 3px 1px rgba(60, 64, 67, 0.15);\n",
              "      fill: #174EA6;\n",
              "    }\n",
              "\n",
              "    [theme=dark] .colab-df-convert {\n",
              "      background-color: #3B4455;\n",
              "      fill: #D2E3FC;\n",
              "    }\n",
              "\n",
              "    [theme=dark] .colab-df-convert:hover {\n",
              "      background-color: #434B5C;\n",
              "      box-shadow: 0px 1px 3px 1px rgba(0, 0, 0, 0.15);\n",
              "      filter: drop-shadow(0px 1px 2px rgba(0, 0, 0, 0.3));\n",
              "      fill: #FFFFFF;\n",
              "    }\n",
              "  </style>\n",
              "\n",
              "      <script>\n",
              "        const buttonEl =\n",
              "          document.querySelector('#df-99b1158c-88c4-4cb6-aa04-15ddea090d76 button.colab-df-convert');\n",
              "        buttonEl.style.display =\n",
              "          google.colab.kernel.accessAllowed ? 'block' : 'none';\n",
              "\n",
              "        async function convertToInteractive(key) {\n",
              "          const element = document.querySelector('#df-99b1158c-88c4-4cb6-aa04-15ddea090d76');\n",
              "          const dataTable =\n",
              "            await google.colab.kernel.invokeFunction('convertToInteractive',\n",
              "                                                     [key], {});\n",
              "          if (!dataTable) return;\n",
              "\n",
              "          const docLinkHtml = 'Like what you see? Visit the ' +\n",
              "            '<a target=\"_blank\" href=https://colab.research.google.com/notebooks/data_table.ipynb>data table notebook</a>'\n",
              "            + ' to learn more about interactive tables.';\n",
              "          element.innerHTML = '';\n",
              "          dataTable['output_type'] = 'display_data';\n",
              "          await google.colab.output.renderOutput(dataTable, element);\n",
              "          const docLink = document.createElement('div');\n",
              "          docLink.innerHTML = docLinkHtml;\n",
              "          element.appendChild(docLink);\n",
              "        }\n",
              "      </script>\n",
              "    </div>\n",
              "  </div>\n",
              "  "
            ]
          },
          "metadata": {},
          "execution_count": 264
        }
      ]
    },
    {
      "cell_type": "code",
      "source": [
        "print(\"Linhas:\\t\\t{}\".format(df.shape[0]))\n",
        "print(\"Colunas:\\t{}\".format(df.shape[1]))"
      ],
      "metadata": {
        "colab": {
          "base_uri": "https://localhost:8080/"
        },
        "id": "mGihio8tMY3n",
        "outputId": "99e3cfd1-7caf-455d-b986-ceed83d54f95"
      },
      "execution_count": null,
      "outputs": [
        {
          "output_type": "stream",
          "name": "stdout",
          "text": [
            "Linhas:\t\t7043\n",
            "Colunas:\t21\n"
          ]
        }
      ]
    },
    {
      "cell_type": "markdown",
      "source": [
        "## Análise Exploratória dos Dados\n",
        "\n",
        "\n",
        "A fim de começar este projeto, irei verificar a integridade e usabilidade do dataset.\n",
        "\n",
        "Para isso, deixarei impresso a quantidade de dados ausentes, os nomes das colunas, os tipos de variáveis por coluna e os valores únicos por coluna. Essa última, especificamente, vai auxiliar na identificação de variáveis potencialmente categóricas."
      ],
      "metadata": {
        "id": "2i1nhiqQQDxL"
      }
    },
    {
      "cell_type": "code",
      "source": [
        "print(\"Dados ausentes (total):\\t{}\\n\".format(df.isnull().sum().values.sum()))\n",
        "print(df.isnull().sum() / df.shape[0])\n",
        "print(\"\\nNomes das features:\\n{}\\n\".format(df.columns.values))\n",
        "print(\"Valores únicos (por coluna):\\n{}\\n\".format(df.nunique()))\n",
        "print(\"Tipos de Variáveis (por coluna):\\n{}\".format(df.dtypes))"
      ],
      "metadata": {
        "colab": {
          "base_uri": "https://localhost:8080/"
        },
        "id": "0MXfOgvrQH7j",
        "outputId": "d2b861ac-512e-4ed3-b995-49c5fc2513db"
      },
      "execution_count": null,
      "outputs": [
        {
          "output_type": "stream",
          "name": "stdout",
          "text": [
            "Dados ausentes (total):\t0\n",
            "\n",
            "customerID          0.0\n",
            "gender              0.0\n",
            "SeniorCitizen       0.0\n",
            "Partner             0.0\n",
            "Dependents          0.0\n",
            "tenure              0.0\n",
            "PhoneService        0.0\n",
            "MultipleLines       0.0\n",
            "InternetService     0.0\n",
            "OnlineSecurity      0.0\n",
            "OnlineBackup        0.0\n",
            "DeviceProtection    0.0\n",
            "TechSupport         0.0\n",
            "StreamingTV         0.0\n",
            "StreamingMovies     0.0\n",
            "Contract            0.0\n",
            "PaperlessBilling    0.0\n",
            "PaymentMethod       0.0\n",
            "MonthlyCharges      0.0\n",
            "TotalCharges        0.0\n",
            "Churn               0.0\n",
            "dtype: float64\n",
            "\n",
            "Nomes das features:\n",
            "['customerID' 'gender' 'SeniorCitizen' 'Partner' 'Dependents' 'tenure'\n",
            " 'PhoneService' 'MultipleLines' 'InternetService' 'OnlineSecurity'\n",
            " 'OnlineBackup' 'DeviceProtection' 'TechSupport' 'StreamingTV'\n",
            " 'StreamingMovies' 'Contract' 'PaperlessBilling' 'PaymentMethod'\n",
            " 'MonthlyCharges' 'TotalCharges' 'Churn']\n",
            "\n",
            "Valores únicos (por coluna):\n",
            "customerID          7043\n",
            "gender                 2\n",
            "SeniorCitizen          2\n",
            "Partner                2\n",
            "Dependents             2\n",
            "tenure                73\n",
            "PhoneService           2\n",
            "MultipleLines          3\n",
            "InternetService        3\n",
            "OnlineSecurity         3\n",
            "OnlineBackup           3\n",
            "DeviceProtection       3\n",
            "TechSupport            3\n",
            "StreamingTV            3\n",
            "StreamingMovies        3\n",
            "Contract               3\n",
            "PaperlessBilling       2\n",
            "PaymentMethod          4\n",
            "MonthlyCharges      1585\n",
            "TotalCharges        6531\n",
            "Churn                  2\n",
            "dtype: int64\n",
            "\n",
            "Tipos de Variáveis (por coluna):\n",
            "customerID           object\n",
            "gender               object\n",
            "SeniorCitizen         int64\n",
            "Partner              object\n",
            "Dependents           object\n",
            "tenure                int64\n",
            "PhoneService         object\n",
            "MultipleLines        object\n",
            "InternetService      object\n",
            "OnlineSecurity       object\n",
            "OnlineBackup         object\n",
            "DeviceProtection     object\n",
            "TechSupport          object\n",
            "StreamingTV          object\n",
            "StreamingMovies      object\n",
            "Contract             object\n",
            "PaperlessBilling     object\n",
            "PaymentMethod        object\n",
            "MonthlyCharges      float64\n",
            "TotalCharges         object\n",
            "Churn                object\n",
            "dtype: object\n"
          ]
        }
      ]
    },
    {
      "cell_type": "markdown",
      "source": [
        "Veja algumas observações que merecem destaque, observadas nessa fase inicial de awareness:\n",
        "\n",
        "* A coluna `costumerID` não agrega nenhuma informação, pois se trata de um identificador única para cada cliente.\n",
        "* A variável alvo está na coluna `Churn`, indicando a situação de churn.\n",
        "* A coluna `TotalCharges` deveria ser um `float`, mas está como `string`.\n",
        "    * Como iremos ver mais à frente, apesar de não termos detectado nenhum valor ausente, existem algumas strings que representam sim valores ausentes.\n",
        "* Várias features precisam ser codificadas para valores numéricos.\n",
        "    * Há várias features binárias, incluindo nossa variável alvo, ou com múltiplos valores, cada um representando uma categoria.\n",
        "\n",
        "Retornando à situação de dados ausentes na coluna `TotalCharges`, veja como foi possível identificar (explicado no vídeo da aula).\n"
      ],
      "metadata": {
        "id": "paBnTSQ2RzMX"
      }
    },
    {
      "cell_type": "markdown",
      "source": [
        "Quando tentamos converter as strings da coluna `TotalCharges`, acabamos identificando um erro.\n",
        "\n",
        "O que aconteceu na verdade, foi que os supostos dados ausentes foram lançados como a string `\"\"`. Quando tentamos `float(\"\")`, o interpretador retorna um erro.\n",
        "\n",
        "Assim, para conseguri converter adequadamente, criei uma função para ldiar com essa exceção. Ao final, identifiquei que dados ausentes foram encontrados, e substitui pelo valor da mediana da coluna.\n",
        "\n",
        "Abaixo, também já aproveitei e excluí a coluna `customerID`, que seria desnecessária ao longo de todo este projeto."
      ],
      "metadata": {
        "id": "L-KJDTiOSiJU"
      }
    },
    {
      "cell_type": "code",
      "source": [
        "def converter_str_float(entrada):\n",
        "    \"\"\"\n",
        "    Converte um objeto do tipo string em float.\n",
        "\n",
        "    # Arguments\n",
        "        entrada: string, string da coluna TotalCharges.\n",
        "\n",
        "    # Returns\n",
        "        Valor convertido em float, caso permita a conversão.\n",
        "        NaN, caso o valor não seja apropriado.\n",
        "    \"\"\"\n",
        "\n",
        "    try:\n",
        "        return float(entrada)\n",
        "    except ValueError:\n",
        "        return np.nan\n",
        "\n",
        "# criar cópia do dataframe\n",
        "df_clean = df.copy()\n",
        "\n",
        "# remover coluna costumerID\n",
        "df_clean.drop(\"customerID\", axis=1, inplace=True)\n",
        "\n",
        "# converter as strings de TotalCharges epara float\n",
        "df_clean[\"TotalCharges\"] = df_clean[\"TotalCharges\"].apply(converter_str_float)\n",
        "\n",
        "# verificar entradas ausentes\n",
        "print(\"Dados ausentes em 'TotalCharges' (antes):\\t{}\\n\".format(df_clean[\"TotalCharges\"].isnull().sum()))\n",
        "\n",
        "# substituir os dados ausentes pelo valor da mediana\n",
        "TotalChargesMedian = df_clean.TotalCharges.median()\n",
        "df_clean[\"TotalCharges\"].fillna(TotalChargesMedian, inplace=True)\n"
      ],
      "metadata": {
        "colab": {
          "base_uri": "https://localhost:8080/"
        },
        "id": "TBexiwG8Si8Y",
        "outputId": "e2eb904b-6cf2-44eb-e745-736496b2a317"
      },
      "execution_count": null,
      "outputs": [
        {
          "output_type": "stream",
          "name": "stdout",
          "text": [
            "Dados ausentes em 'TotalCharges' (antes):\t11\n",
            "\n"
          ]
        }
      ]
    },
    {
      "cell_type": "markdown",
      "source": [
        "Apesar deste dataset ser composto majoritariamente por variáveis binárias ou categóricas, é possível ver abaixio, pelo método `describe`, que não há indícios da presença de outliers."
      ],
      "metadata": {
        "id": "abFN0BqwT8-h"
      }
    },
    {
      "cell_type": "code",
      "source": [
        "df_clean.describe()"
      ],
      "metadata": {
        "colab": {
          "base_uri": "https://localhost:8080/",
          "height": 300
        },
        "id": "721DzKUST5GI",
        "outputId": "61cc5d73-5a43-4e71-aa98-3237b81cb849"
      },
      "execution_count": null,
      "outputs": [
        {
          "output_type": "execute_result",
          "data": {
            "text/plain": [
              "       SeniorCitizen       tenure  MonthlyCharges  TotalCharges\n",
              "count    7043.000000  7043.000000     7043.000000   7043.000000\n",
              "mean        0.162147    32.371149       64.761692   2281.916928\n",
              "std         0.368612    24.559481       30.090047   2265.270398\n",
              "min         0.000000     0.000000       18.250000     18.800000\n",
              "25%         0.000000     9.000000       35.500000    402.225000\n",
              "50%         0.000000    29.000000       70.350000   1397.475000\n",
              "75%         0.000000    55.000000       89.850000   3786.600000\n",
              "max         1.000000    72.000000      118.750000   8684.800000"
            ],
            "text/html": [
              "\n",
              "  <div id=\"df-bce59f64-79eb-411f-ab30-316b1e8059d4\">\n",
              "    <div class=\"colab-df-container\">\n",
              "      <div>\n",
              "<style scoped>\n",
              "    .dataframe tbody tr th:only-of-type {\n",
              "        vertical-align: middle;\n",
              "    }\n",
              "\n",
              "    .dataframe tbody tr th {\n",
              "        vertical-align: top;\n",
              "    }\n",
              "\n",
              "    .dataframe thead th {\n",
              "        text-align: right;\n",
              "    }\n",
              "</style>\n",
              "<table border=\"1\" class=\"dataframe\">\n",
              "  <thead>\n",
              "    <tr style=\"text-align: right;\">\n",
              "      <th></th>\n",
              "      <th>SeniorCitizen</th>\n",
              "      <th>tenure</th>\n",
              "      <th>MonthlyCharges</th>\n",
              "      <th>TotalCharges</th>\n",
              "    </tr>\n",
              "  </thead>\n",
              "  <tbody>\n",
              "    <tr>\n",
              "      <th>count</th>\n",
              "      <td>7043.000000</td>\n",
              "      <td>7043.000000</td>\n",
              "      <td>7043.000000</td>\n",
              "      <td>7043.000000</td>\n",
              "    </tr>\n",
              "    <tr>\n",
              "      <th>mean</th>\n",
              "      <td>0.162147</td>\n",
              "      <td>32.371149</td>\n",
              "      <td>64.761692</td>\n",
              "      <td>2281.916928</td>\n",
              "    </tr>\n",
              "    <tr>\n",
              "      <th>std</th>\n",
              "      <td>0.368612</td>\n",
              "      <td>24.559481</td>\n",
              "      <td>30.090047</td>\n",
              "      <td>2265.270398</td>\n",
              "    </tr>\n",
              "    <tr>\n",
              "      <th>min</th>\n",
              "      <td>0.000000</td>\n",
              "      <td>0.000000</td>\n",
              "      <td>18.250000</td>\n",
              "      <td>18.800000</td>\n",
              "    </tr>\n",
              "    <tr>\n",
              "      <th>25%</th>\n",
              "      <td>0.000000</td>\n",
              "      <td>9.000000</td>\n",
              "      <td>35.500000</td>\n",
              "      <td>402.225000</td>\n",
              "    </tr>\n",
              "    <tr>\n",
              "      <th>50%</th>\n",
              "      <td>0.000000</td>\n",
              "      <td>29.000000</td>\n",
              "      <td>70.350000</td>\n",
              "      <td>1397.475000</td>\n",
              "    </tr>\n",
              "    <tr>\n",
              "      <th>75%</th>\n",
              "      <td>0.000000</td>\n",
              "      <td>55.000000</td>\n",
              "      <td>89.850000</td>\n",
              "      <td>3786.600000</td>\n",
              "    </tr>\n",
              "    <tr>\n",
              "      <th>max</th>\n",
              "      <td>1.000000</td>\n",
              "      <td>72.000000</td>\n",
              "      <td>118.750000</td>\n",
              "      <td>8684.800000</td>\n",
              "    </tr>\n",
              "  </tbody>\n",
              "</table>\n",
              "</div>\n",
              "      <button class=\"colab-df-convert\" onclick=\"convertToInteractive('df-bce59f64-79eb-411f-ab30-316b1e8059d4')\"\n",
              "              title=\"Convert this dataframe to an interactive table.\"\n",
              "              style=\"display:none;\">\n",
              "        \n",
              "  <svg xmlns=\"http://www.w3.org/2000/svg\" height=\"24px\"viewBox=\"0 0 24 24\"\n",
              "       width=\"24px\">\n",
              "    <path d=\"M0 0h24v24H0V0z\" fill=\"none\"/>\n",
              "    <path d=\"M18.56 5.44l.94 2.06.94-2.06 2.06-.94-2.06-.94-.94-2.06-.94 2.06-2.06.94zm-11 1L8.5 8.5l.94-2.06 2.06-.94-2.06-.94L8.5 2.5l-.94 2.06-2.06.94zm10 10l.94 2.06.94-2.06 2.06-.94-2.06-.94-.94-2.06-.94 2.06-2.06.94z\"/><path d=\"M17.41 7.96l-1.37-1.37c-.4-.4-.92-.59-1.43-.59-.52 0-1.04.2-1.43.59L10.3 9.45l-7.72 7.72c-.78.78-.78 2.05 0 2.83L4 21.41c.39.39.9.59 1.41.59.51 0 1.02-.2 1.41-.59l7.78-7.78 2.81-2.81c.8-.78.8-2.07 0-2.86zM5.41 20L4 18.59l7.72-7.72 1.47 1.35L5.41 20z\"/>\n",
              "  </svg>\n",
              "      </button>\n",
              "      \n",
              "  <style>\n",
              "    .colab-df-container {\n",
              "      display:flex;\n",
              "      flex-wrap:wrap;\n",
              "      gap: 12px;\n",
              "    }\n",
              "\n",
              "    .colab-df-convert {\n",
              "      background-color: #E8F0FE;\n",
              "      border: none;\n",
              "      border-radius: 50%;\n",
              "      cursor: pointer;\n",
              "      display: none;\n",
              "      fill: #1967D2;\n",
              "      height: 32px;\n",
              "      padding: 0 0 0 0;\n",
              "      width: 32px;\n",
              "    }\n",
              "\n",
              "    .colab-df-convert:hover {\n",
              "      background-color: #E2EBFA;\n",
              "      box-shadow: 0px 1px 2px rgba(60, 64, 67, 0.3), 0px 1px 3px 1px rgba(60, 64, 67, 0.15);\n",
              "      fill: #174EA6;\n",
              "    }\n",
              "\n",
              "    [theme=dark] .colab-df-convert {\n",
              "      background-color: #3B4455;\n",
              "      fill: #D2E3FC;\n",
              "    }\n",
              "\n",
              "    [theme=dark] .colab-df-convert:hover {\n",
              "      background-color: #434B5C;\n",
              "      box-shadow: 0px 1px 3px 1px rgba(0, 0, 0, 0.15);\n",
              "      filter: drop-shadow(0px 1px 2px rgba(0, 0, 0, 0.3));\n",
              "      fill: #FFFFFF;\n",
              "    }\n",
              "  </style>\n",
              "\n",
              "      <script>\n",
              "        const buttonEl =\n",
              "          document.querySelector('#df-bce59f64-79eb-411f-ab30-316b1e8059d4 button.colab-df-convert');\n",
              "        buttonEl.style.display =\n",
              "          google.colab.kernel.accessAllowed ? 'block' : 'none';\n",
              "\n",
              "        async function convertToInteractive(key) {\n",
              "          const element = document.querySelector('#df-bce59f64-79eb-411f-ab30-316b1e8059d4');\n",
              "          const dataTable =\n",
              "            await google.colab.kernel.invokeFunction('convertToInteractive',\n",
              "                                                     [key], {});\n",
              "          if (!dataTable) return;\n",
              "\n",
              "          const docLinkHtml = 'Like what you see? Visit the ' +\n",
              "            '<a target=\"_blank\" href=https://colab.research.google.com/notebooks/data_table.ipynb>data table notebook</a>'\n",
              "            + ' to learn more about interactive tables.';\n",
              "          element.innerHTML = '';\n",
              "          dataTable['output_type'] = 'display_data';\n",
              "          await google.colab.output.renderOutput(dataTable, element);\n",
              "          const docLink = document.createElement('div');\n",
              "          docLink.innerHTML = docLinkHtml;\n",
              "          element.appendChild(docLink);\n",
              "        }\n",
              "      </script>\n",
              "    </div>\n",
              "  </div>\n",
              "  "
            ]
          },
          "metadata": {},
          "execution_count": 268
        }
      ]
    },
    {
      "cell_type": "markdown",
      "source": [
        "Analisando o boxplot para as colunas `MonthlyCharges` e `TotalCharges`, perceba como a distribuição dos valores reforça essa hipótese. O threshold padrão não acusou nenhum plot fora dos limites superior e inferior."
      ],
      "metadata": {
        "id": "OJph1CNFUR2f"
      }
    },
    {
      "cell_type": "code",
      "source": [
        "fig, ax = plt.subplots(nrows=1, ncols=2, figsize=(12, 4))\n",
        "sns.boxplot(df_clean['MonthlyCharges'], ax=ax[0])\n",
        "sns.boxplot(df_clean['TotalCharges'], ax=ax[1])\n",
        "plt.tight_layout()"
      ],
      "metadata": {
        "id": "xZ5N6NErUS2z",
        "colab": {
          "base_uri": "https://localhost:8080/",
          "height": 297
        },
        "outputId": "26ef9181-5eff-4ca5-ce54-698e06393a02"
      },
      "execution_count": null,
      "outputs": [
        {
          "output_type": "display_data",
          "data": {
            "text/plain": [
              "<Figure size 864x288 with 2 Axes>"
            ],
            "image/png": "[encoded data removed]"
          },
          "metadata": {
            "needs_background": "light"
          }
        }
      ]
    },
    {
      "cell_type": "markdown",
      "source": [
        "A variável `tenure` está relacionada ao tempo que um cliente permance assinando determinado serviço. Em outras palavras, pode-se dizer que é um indicativo de fidelidade.\n",
        "\n",
        "Apesar de não haver nenhuma documentação, assumo que a unidade de tempo utilizada é \"mês\"."
      ],
      "metadata": {
        "id": "iZtmvqkzVEqL"
      }
    },
    {
      "cell_type": "code",
      "source": [
        "fig, ax = plt.subplots(figsize=(12, 4))\n",
        "sns.countplot(df['tenure'])\n",
        "plt.tight_layout()"
      ],
      "metadata": {
        "colab": {
          "base_uri": "https://localhost:8080/",
          "height": 297
        },
        "id": "xfkuLGuGVGQP",
        "outputId": "a3e6022f-0e4d-465d-a04d-d443130f210f"
      },
      "execution_count": null,
      "outputs": [
        {
          "output_type": "display_data",
          "data": {
            "text/plain": [
              "<Figure size 864x288 with 1 Axes>"
            ],
            "image/png": "[encoded data removed]"
          },
          "metadata": {
            "needs_background": "light"
          }
        }
      ]
    },
    {
      "cell_type": "markdown",
      "source": [
        "Lidando com variáveis categóricas, é importante ver os valores únicos. Isso permite identificar situações como labels diferentes querendo indicar a mesma coisa.\n",
        "\n",
        "Vendo os valores impressos na célula abaixo, entendo que um cientista de dados pode queer considerar valores como `No`, `No phone service` e `No internet service` como sendo a mesma coisa.\n",
        "\n",
        "Apesar de totalmente válida, não será essa a premissa adotada aqui. Irei considerar cada label individualmente."
      ],
      "metadata": {
        "id": "ldcfPk8AViCK"
      }
    },
    {
      "cell_type": "code",
      "source": [
        "# verificar valores únicos das variáveis categóricas\n",
        "np.unique(df_clean.select_dtypes('object').values)"
      ],
      "metadata": {
        "colab": {
          "base_uri": "https://localhost:8080/"
        },
        "id": "owlQinarVjKD",
        "outputId": "99e3385d-9912-41b0-a9f2-1e7df2341703"
      },
      "execution_count": null,
      "outputs": [
        {
          "output_type": "execute_result",
          "data": {
            "text/plain": [
              "array(['Bank transfer (automatic)', 'Credit card (automatic)', 'DSL',\n",
              "       'Electronic check', 'Female', 'Fiber optic', 'Mailed check',\n",
              "       'Male', 'Month-to-month', 'No', 'No internet service',\n",
              "       'No phone service', 'One year', 'Two year', 'Yes'], dtype=object)"
            ]
          },
          "metadata": {},
          "execution_count": 271
        }
      ]
    },
    {
      "cell_type": "markdown",
      "source": [
        "Para identificar se os nossos dados podem estar com algum tipo de bias (viés), irei verificar a contagem de valores para `Male` e `Female`.\n",
        "\n",
        "Apesar de não entender que isso poderia gerar algum prejuízo relevante neste problema específico, haverá muitas situações onde esse prejuízo será real, como é o caso de modelos aplicados à contratação de funcionários ou previsão de crimes.\n",
        "\n",
        "Abaixo, você pode ver que o gênero das entradas está balanceado."
      ],
      "metadata": {
        "id": "Hvso-ya1V1VS"
      }
    },
    {
      "cell_type": "code",
      "source": [
        "sns.countplot(df.gender)"
      ],
      "metadata": {
        "colab": {
          "base_uri": "https://localhost:8080/",
          "height": 297
        },
        "id": "lfkPtIcBV54x",
        "outputId": "4b8c804a-c50a-4341-e412-f54233b97697"
      },
      "execution_count": null,
      "outputs": [
        {
          "output_type": "execute_result",
          "data": {
            "text/plain": [
              "<matplotlib.axes._subplots.AxesSubplot at 0x7fedf8f84bb0>"
            ]
          },
          "metadata": {},
          "execution_count": 272
        },
        {
          "output_type": "display_data",
          "data": {
            "text/plain": [
              "<Figure size 432x288 with 1 Axes>"
            ],
            "image/png": "[encoded data removed]"
          },
          "metadata": {
            "needs_background": "light"
          }
        }
      ]
    },
    {
      "cell_type": "markdown",
      "source": [
        "Por fim, nesta primeira análise exploratória, vamos ver o balanceamento das classes do dataset.\n",
        "\n",
        "É possível identificar que a classe `No` ocorre com frequência muito superior à classe `Yes`. Isso será considerado na etapa de construção do modelo de machine learning."
      ],
      "metadata": {
        "id": "SxS4bEoEWBP6"
      }
    },
    {
      "cell_type": "code",
      "source": [
        "sns.countplot(df.Churn)"
      ],
      "metadata": {
        "colab": {
          "base_uri": "https://localhost:8080/",
          "height": 297
        },
        "id": "mtGYakyPWD9l",
        "outputId": "5925d3e6-3c87-4403-f20b-73d22974c835"
      },
      "execution_count": null,
      "outputs": [
        {
          "output_type": "execute_result",
          "data": {
            "text/plain": [
              "<matplotlib.axes._subplots.AxesSubplot at 0x7fedf8f21ac0>"
            ]
          },
          "metadata": {},
          "execution_count": 273
        },
        {
          "output_type": "display_data",
          "data": {
            "text/plain": [
              "<Figure size 432x288 with 1 Axes>"
            ],
            "image/png": "[encoded data removed]"
          },
          "metadata": {
            "needs_background": "light"
          }
        }
      ]
    },
    {
      "cell_type": "markdown",
      "source": [
        "## Preparar os Dados\n",
        "\n",
        "Nesta etapa de preparação dos dados, será realizado um pré-processamento básico, apenas com a finalidade de construir um modelo base.\n",
        "\n",
        "As features que continham 2 labels únicos, serão processadas usando-se o `LabelEncoder`. Vale lembrar que isso inclui a variável alvo `Churn`. Na sequência, serão separadas as variáveis numéricas das categóricas. As categóricas serão transformadas em variáveis dummy, para permitir a sua utilização em todos os modelos."
      ],
      "metadata": {
        "id": "JWqLEUogWMae"
      }
    },
    {
      "cell_type": "code",
      "source": [
        "# pré processar as variáveis\n",
        "binary_var = df_clean.nunique()[df_clean.nunique() == 2].keys().tolist()\n",
        "num_var = [col for col in df_clean.select_dtypes(['int', 'float']).columns.tolist() if col not in binary_var]\n",
        "cat_var = [col for col in df_clean.columns.tolist() if col not in binary_var + num_var]\n",
        "\n",
        "# criando uma cópia do dataframe\n",
        "df_proc = df_clean.copy()\n",
        "\n",
        "# Label Encoding para as variáveis binárias\n",
        "le = LabelEncoder()\n",
        "for i in binary_var:\n",
        "    df_proc[i] = le.fit_transform(df_proc[i])\n",
        "\n",
        "# Encoding para colunas categóricas com múltiplas classes\n",
        "df_proc = pd.get_dummies(df_proc, columns = cat_var)\n",
        "\n",
        "# ver as 5 primeiras entradas do novo dataframe\n",
        "df_proc.head()"
      ],
      "metadata": {
        "colab": {
          "base_uri": "https://localhost:8080/",
          "height": 334
        },
        "id": "nZWsS5dSWOfV",
        "outputId": "f8be542e-d5d0-4e61-c25c-b90ce8daf915"
      },
      "execution_count": null,
      "outputs": [
        {
          "output_type": "execute_result",
          "data": {
            "text/plain": [
              "   gender  SeniorCitizen  Partner  Dependents  tenure  PhoneService  \\\n",
              "0       0              0        1           0       1             0   \n",
              "1       1              0        0           0      34             1   \n",
              "2       1              0        0           0       2             1   \n",
              "3       1              0        0           0      45             0   \n",
              "4       0              0        0           0       2             1   \n",
              "\n",
              "   PaperlessBilling  MonthlyCharges  TotalCharges  Churn  ...  \\\n",
              "0                 1           29.85         29.85      0  ...   \n",
              "1                 0           56.95       1889.50      0  ...   \n",
              "2                 1           53.85        108.15      1  ...   \n",
              "3                 0           42.30       1840.75      0  ...   \n",
              "4                 1           70.70        151.65      1  ...   \n",
              "\n",
              "   StreamingMovies_No  StreamingMovies_No internet service  \\\n",
              "0                   1                                    0   \n",
              "1                   1                                    0   \n",
              "2                   1                                    0   \n",
              "3                   1                                    0   \n",
              "4                   1                                    0   \n",
              "\n",
              "   StreamingMovies_Yes  Contract_Month-to-month  Contract_One year  \\\n",
              "0                    0                        1                  0   \n",
              "1                    0                        0                  1   \n",
              "2                    0                        1                  0   \n",
              "3                    0                        0                  1   \n",
              "4                    0                        1                  0   \n",
              "\n",
              "   Contract_Two year  PaymentMethod_Bank transfer (automatic)  \\\n",
              "0                  0                                        0   \n",
              "1                  0                                        0   \n",
              "2                  0                                        0   \n",
              "3                  0                                        1   \n",
              "4                  0                                        0   \n",
              "\n",
              "   PaymentMethod_Credit card (automatic)  PaymentMethod_Electronic check  \\\n",
              "0                                      0                               1   \n",
              "1                                      0                               0   \n",
              "2                                      0                               0   \n",
              "3                                      0                               0   \n",
              "4                                      0                               1   \n",
              "\n",
              "   PaymentMethod_Mailed check  \n",
              "0                           0  \n",
              "1                           1  \n",
              "2                           1  \n",
              "3                           0  \n",
              "4                           0  \n",
              "\n",
              "[5 rows x 41 columns]"
            ],
            "text/html": [
              "\n",
              "  <div id=\"df-d522638f-f287-4423-80e1-eda55e48f083\">\n",
              "    <div class=\"colab-df-container\">\n",
              "      <div>\n",
              "<style scoped>\n",
              "    .dataframe tbody tr th:only-of-type {\n",
              "        vertical-align: middle;\n",
              "    }\n",
              "\n",
              "    .dataframe tbody tr th {\n",
              "        vertical-align: top;\n",
              "    }\n",
              "\n",
              "    .dataframe thead th {\n",
              "        text-align: right;\n",
              "    }\n",
              "</style>\n",
              "<table border=\"1\" class=\"dataframe\">\n",
              "  <thead>\n",
              "    <tr style=\"text-align: right;\">\n",
              "      <th></th>\n",
              "      <th>gender</th>\n",
              "      <th>SeniorCitizen</th>\n",
              "      <th>Partner</th>\n",
              "      <th>Dependents</th>\n",
              "      <th>tenure</th>\n",
              "      <th>PhoneService</th>\n",
              "      <th>PaperlessBilling</th>\n",
              "      <th>MonthlyCharges</th>\n",
              "      <th>TotalCharges</th>\n",
              "      <th>Churn</th>\n",
              "      <th>...</th>\n",
              "      <th>StreamingMovies_No</th>\n",
              "      <th>StreamingMovies_No internet service</th>\n",
              "      <th>StreamingMovies_Yes</th>\n",
              "      <th>Contract_Month-to-month</th>\n",
              "      <th>Contract_One year</th>\n",
              "      <th>Contract_Two year</th>\n",
              "      <th>PaymentMethod_Bank transfer (automatic)</th>\n",
              "      <th>PaymentMethod_Credit card (automatic)</th>\n",
              "      <th>PaymentMethod_Electronic check</th>\n",
              "      <th>PaymentMethod_Mailed check</th>\n",
              "    </tr>\n",
              "  </thead>\n",
              "  <tbody>\n",
              "    <tr>\n",
              "      <th>0</th>\n",
              "      <td>0</td>\n",
              "      <td>0</td>\n",
              "      <td>1</td>\n",
              "      <td>0</td>\n",
              "      <td>1</td>\n",
              "      <td>0</td>\n",
              "      <td>1</td>\n",
              "      <td>29.85</td>\n",
              "      <td>29.85</td>\n",
              "      <td>0</td>\n",
              "      <td>...</td>\n",
              "      <td>1</td>\n",
              "      <td>0</td>\n",
              "      <td>0</td>\n",
              "      <td>1</td>\n",
              "      <td>0</td>\n",
              "      <td>0</td>\n",
              "      <td>0</td>\n",
              "      <td>0</td>\n",
              "      <td>1</td>\n",
              "      <td>0</td>\n",
              "    </tr>\n",
              "    <tr>\n",
              "      <th>1</th>\n",
              "      <td>1</td>\n",
              "      <td>0</td>\n",
              "      <td>0</td>\n",
              "      <td>0</td>\n",
              "      <td>34</td>\n",
              "      <td>1</td>\n",
              "      <td>0</td>\n",
              "      <td>56.95</td>\n",
              "      <td>1889.50</td>\n",
              "      <td>0</td>\n",
              "      <td>...</td>\n",
              "      <td>1</td>\n",
              "      <td>0</td>\n",
              "      <td>0</td>\n",
              "      <td>0</td>\n",
              "      <td>1</td>\n",
              "      <td>0</td>\n",
              "      <td>0</td>\n",
              "      <td>0</td>\n",
              "      <td>0</td>\n",
              "      <td>1</td>\n",
              "    </tr>\n",
              "    <tr>\n",
              "      <th>2</th>\n",
              "      <td>1</td>\n",
              "      <td>0</td>\n",
              "      <td>0</td>\n",
              "      <td>0</td>\n",
              "      <td>2</td>\n",
              "      <td>1</td>\n",
              "      <td>1</td>\n",
              "      <td>53.85</td>\n",
              "      <td>108.15</td>\n",
              "      <td>1</td>\n",
              "      <td>...</td>\n",
              "      <td>1</td>\n",
              "      <td>0</td>\n",
              "      <td>0</td>\n",
              "      <td>1</td>\n",
              "      <td>0</td>\n",
              "      <td>0</td>\n",
              "      <td>0</td>\n",
              "      <td>0</td>\n",
              "      <td>0</td>\n",
              "      <td>1</td>\n",
              "    </tr>\n",
              "    <tr>\n",
              "      <th>3</th>\n",
              "      <td>1</td>\n",
              "      <td>0</td>\n",
              "      <td>0</td>\n",
              "      <td>0</td>\n",
              "      <td>45</td>\n",
              "      <td>0</td>\n",
              "      <td>0</td>\n",
              "      <td>42.30</td>\n",
              "      <td>1840.75</td>\n",
              "      <td>0</td>\n",
              "      <td>...</td>\n",
              "      <td>1</td>\n",
              "      <td>0</td>\n",
              "      <td>0</td>\n",
              "      <td>0</td>\n",
              "      <td>1</td>\n",
              "      <td>0</td>\n",
              "      <td>1</td>\n",
              "      <td>0</td>\n",
              "      <td>0</td>\n",
              "      <td>0</td>\n",
              "    </tr>\n",
              "    <tr>\n",
              "      <th>4</th>\n",
              "      <td>0</td>\n",
              "      <td>0</td>\n",
              "      <td>0</td>\n",
              "      <td>0</td>\n",
              "      <td>2</td>\n",
              "      <td>1</td>\n",
              "      <td>1</td>\n",
              "      <td>70.70</td>\n",
              "      <td>151.65</td>\n",
              "      <td>1</td>\n",
              "      <td>...</td>\n",
              "      <td>1</td>\n",
              "      <td>0</td>\n",
              "      <td>0</td>\n",
              "      <td>1</td>\n",
              "      <td>0</td>\n",
              "      <td>0</td>\n",
              "      <td>0</td>\n",
              "      <td>0</td>\n",
              "      <td>1</td>\n",
              "      <td>0</td>\n",
              "    </tr>\n",
              "  </tbody>\n",
              "</table>\n",
              "<p>5 rows × 41 columns</p>\n",
              "</div>\n",
              "      <button class=\"colab-df-convert\" onclick=\"convertToInteractive('df-d522638f-f287-4423-80e1-eda55e48f083')\"\n",
              "              title=\"Convert this dataframe to an interactive table.\"\n",
              "              style=\"display:none;\">\n",
              "        \n",
              "  <svg xmlns=\"http://www.w3.org/2000/svg\" height=\"24px\"viewBox=\"0 0 24 24\"\n",
              "       width=\"24px\">\n",
              "    <path d=\"M0 0h24v24H0V0z\" fill=\"none\"/>\n",
              "    <path d=\"M18.56 5.44l.94 2.06.94-2.06 2.06-.94-2.06-.94-.94-2.06-.94 2.06-2.06.94zm-11 1L8.5 8.5l.94-2.06 2.06-.94-2.06-.94L8.5 2.5l-.94 2.06-2.06.94zm10 10l.94 2.06.94-2.06 2.06-.94-2.06-.94-.94-2.06-.94 2.06-2.06.94z\"/><path d=\"M17.41 7.96l-1.37-1.37c-.4-.4-.92-.59-1.43-.59-.52 0-1.04.2-1.43.59L10.3 9.45l-7.72 7.72c-.78.78-.78 2.05 0 2.83L4 21.41c.39.39.9.59 1.41.59.51 0 1.02-.2 1.41-.59l7.78-7.78 2.81-2.81c.8-.78.8-2.07 0-2.86zM5.41 20L4 18.59l7.72-7.72 1.47 1.35L5.41 20z\"/>\n",
              "  </svg>\n",
              "      </button>\n",
              "      \n",
              "  <style>\n",
              "    .colab-df-container {\n",
              "      display:flex;\n",
              "      flex-wrap:wrap;\n",
              "      gap: 12px;\n",
              "    }\n",
              "\n",
              "    .colab-df-convert {\n",
              "      background-color: #E8F0FE;\n",
              "      border: none;\n",
              "      border-radius: 50%;\n",
              "      cursor: pointer;\n",
              "      display: none;\n",
              "      fill: #1967D2;\n",
              "      height: 32px;\n",
              "      padding: 0 0 0 0;\n",
              "      width: 32px;\n",
              "    }\n",
              "\n",
              "    .colab-df-convert:hover {\n",
              "      background-color: #E2EBFA;\n",
              "      box-shadow: 0px 1px 2px rgba(60, 64, 67, 0.3), 0px 1px 3px 1px rgba(60, 64, 67, 0.15);\n",
              "      fill: #174EA6;\n",
              "    }\n",
              "\n",
              "    [theme=dark] .colab-df-convert {\n",
              "      background-color: #3B4455;\n",
              "      fill: #D2E3FC;\n",
              "    }\n",
              "\n",
              "    [theme=dark] .colab-df-convert:hover {\n",
              "      background-color: #434B5C;\n",
              "      box-shadow: 0px 1px 3px 1px rgba(0, 0, 0, 0.15);\n",
              "      filter: drop-shadow(0px 1px 2px rgba(0, 0, 0, 0.3));\n",
              "      fill: #FFFFFF;\n",
              "    }\n",
              "  </style>\n",
              "\n",
              "      <script>\n",
              "        const buttonEl =\n",
              "          document.querySelector('#df-d522638f-f287-4423-80e1-eda55e48f083 button.colab-df-convert');\n",
              "        buttonEl.style.display =\n",
              "          google.colab.kernel.accessAllowed ? 'block' : 'none';\n",
              "\n",
              "        async function convertToInteractive(key) {\n",
              "          const element = document.querySelector('#df-d522638f-f287-4423-80e1-eda55e48f083');\n",
              "          const dataTable =\n",
              "            await google.colab.kernel.invokeFunction('convertToInteractive',\n",
              "                                                     [key], {});\n",
              "          if (!dataTable) return;\n",
              "\n",
              "          const docLinkHtml = 'Like what you see? Visit the ' +\n",
              "            '<a target=\"_blank\" href=https://colab.research.google.com/notebooks/data_table.ipynb>data table notebook</a>'\n",
              "            + ' to learn more about interactive tables.';\n",
              "          element.innerHTML = '';\n",
              "          dataTable['output_type'] = 'display_data';\n",
              "          await google.colab.output.renderOutput(dataTable, element);\n",
              "          const docLink = document.createElement('div');\n",
              "          docLink.innerHTML = docLinkHtml;\n",
              "          element.appendChild(docLink);\n",
              "        }\n",
              "      </script>\n",
              "    </div>\n",
              "  </div>\n",
              "  "
            ]
          },
          "metadata": {},
          "execution_count": 274
        }
      ]
    },
    {
      "cell_type": "markdown",
      "source": [
        "## Modelo de Machine Learning\n",
        "\n",
        "Com o processamento realizado na etapa anterior, os dados já podem ser usados nos modelos de machine learning.\n",
        "\n",
        "Para podermos comparar o desempenho e melhora do modelo, criaremos um baseline simples. Não será feito nenhum ajuste nos hiperparâmetros e nem será pensado ainda em balanceamento de dados, feature engineering ou feature selection (entre outros).\n",
        "\n",
        "No entanto, desde já é importante separar os dados que serão utilizados como treino e como teste. Os dados de teste só irão ser usados na última etapa do projeto, para termos uma avaliação mais real."
      ],
      "metadata": {
        "id": "w_8dfXk6Xr0N"
      }
    },
    {
      "cell_type": "code",
      "source": [
        "# separar a feature matrix da target vector\n",
        "X = df_proc.drop('Churn', axis = 1)\n",
        "y = df_proc['Churn']\n",
        "\n",
        "# dividir os dados entre treino e teste\n",
        "X_train, X_test, y_train, y_test = train_test_split(X,y)\n"
      ],
      "metadata": {
        "id": "1YDABrV7XvIz"
      },
      "execution_count": null,
      "outputs": []
    },
    {
      "cell_type": "markdown",
      "source": [
        "Irei usar a cross-validation para estimar o erro da baseline e dos modelos iniciais. Para facilitar e melhorar o código, foi criada uma função `val_model`. A métrica utilizada para avaliação será `recall`."
      ],
      "metadata": {
        "id": "UBHLGtTpYGRp"
      }
    },
    {
      "cell_type": "code",
      "source": [
        "def val_model(X, y, clf, quite=False):\n",
        "    \"\"\"\n",
        "    Realiza cross-validation com os dados de treino para determinado modelo.\n",
        "\n",
        "    # Arguments\n",
        "        X: DataFrame, contém as variáveis independetes.\n",
        "        y: Series, vetor contendo a variável alvo.\n",
        "        clf: modelo classificador do Scikit-learn.\n",
        "        quite: bool, indicando se a função deve imprimir os resultados ou não.\n",
        "\n",
        "    # Returns\n",
        "        float, média dos scores da cross-validation.\n",
        "    \"\"\"\n",
        "\n",
        "    X = np.array(X)\n",
        "    y = np.array(y)\n",
        "\n",
        "    pipeline = make_pipeline(StandardScaler(), clf)\n",
        "    scores = cross_val_score(pipeline, X, y, scoring='accuracy')\n",
        "\n",
        "    if quite == False:\n",
        "        print(\"Accuracy: {:.2f} (+/- {:.2f})\".format(scores.mean(), scores.std()))\n",
        "\n",
        "    return scores.mean()"
      ],
      "metadata": {
        "id": "FC-ojIVZYJgc"
      },
      "execution_count": null,
      "outputs": []
    },
    {
      "cell_type": "markdown",
      "source": [
        "Para o baseline inicial, usarei o `SGDClassifier`, sem nenhum tipo de alteração nos parâmetros. Os dados que serão passados são os de treino."
      ],
      "metadata": {
        "id": "LHtI3_80YrRy"
      }
    },
    {
      "cell_type": "code",
      "source": [
        "rf = RandomForestClassifier()\n",
        "dt = DecisionTreeClassifier()\n",
        "sgdc = SGDClassifier()\n",
        "svc = SVC()\n",
        "lr = LogisticRegression()\n",
        "xgb = XGBClassifier()\n",
        "lgbm = LGBMClassifier()\n",
        "\n",
        "# criar baseline e ver desempenho\n",
        "svc = SVC()\n",
        "score_baseline = val_model(X_train, y_train, svc)"
      ],
      "metadata": {
        "colab": {
          "base_uri": "https://localhost:8080/"
        },
        "id": "T1a0zvXVYs3-",
        "outputId": "cf82f595-5a72-426e-99e3-569b1531b79d"
      },
      "execution_count": null,
      "outputs": [
        {
          "output_type": "stream",
          "name": "stdout",
          "text": [
            "Accuracy: 0.80 (+/- 0.01)\n"
          ]
        }
      ]
    },
    {
      "cell_type": "markdown",
      "source": [
        "Uma vez que temos um baseline para comparar se os ajustes melhoram ou pioram o desempenho do modelo, irei realizar o balanceamento dos dados e ver como isso irá impactar.\n",
        "\n",
        "A técnica escolhida foi Under Sampling, após alguns teste de desempenho das outras. Seguindo recomendações de algumas literaturas, os dados serão padronizados antes de usar essa técnica de balanceamento.\n",
        "\n",
        "Lembrando, é importante que o balanceamento aconteca apenas com os dados de treino. Os dados de teste devem permanecer intocáveis."
      ],
      "metadata": {
        "id": "yeE7gz2pY5jL"
      }
    },
    {
      "cell_type": "code",
      "source": [
        "# padronizar os dados\n",
        "scaler = StandardScaler().fit(X_train)\n",
        "X_train = scaler.transform(X_train)\n",
        "X_test = scaler.transform(X_test)\n",
        "\n",
        "rus = RandomUnderSampler()\n",
        "X_train_rus, y_train_rus = rus.fit_resample(X_train, y_train)"
      ],
      "metadata": {
        "id": "1NrDHQ6mZbC9"
      },
      "execution_count": null,
      "outputs": []
    },
    {
      "cell_type": "markdown",
      "source": [
        "Irei aplicar a validação cruzada a vários modelos, a fim de identificar o seu desempenho e escolher o(s) melhor(es). Novamente, serão utilizados apenas dados de treino. Os modelos escolhidos são:\n",
        "\n",
        "* Random Forest\n",
        "* Decision Tree\n",
        "* Stochastic Gradient Descent\n",
        "* SVC\n",
        "* Regressão Logística\n",
        "* LightGBM\n"
      ],
      "metadata": {
        "id": "ZyYDIA9AZ6gq"
      }
    },
    {
      "cell_type": "code",
      "source": [
        "from inspect import modulesbyfile\n",
        "# instanciar modelos\n",
        "rf = RandomForestClassifier()\n",
        "dt = DecisionTreeClassifier()\n",
        "sgdc = SGDClassifier()\n",
        "svc = SVC()\n",
        "lr = LogisticRegression()\n",
        "xgb = XGBClassifier()\n",
        "lgbm = LGBMClassifier()\n",
        "\n",
        "model = []\n",
        "accuracy = []\n",
        "# avaliar o desempenho (recall)\n",
        "for clf in (rf, dt, sgdc, svc, lr, xgb, lgbm):\n",
        "  model.append(clf.__class__.__name__)\n",
        "  accuracy.append(val_model(X_train_rus, y_train_rus, clf, quite=True))\n",
        "\n",
        "acc = pd.DataFrame({\n",
        "    'Model Accuracy' : accuracy,\n",
        "     \"Model Name\" : model\n",
        "})\n",
        "\n",
        "acc1 = acc.set_index(\"Model Name\").sort_values(by='Model Accuracy', ascending = False)\n",
        "acc1"
      ],
      "metadata": {
        "colab": {
          "base_uri": "https://localhost:8080/",
          "height": 300
        },
        "id": "vW3y0m1tZ-s5",
        "outputId": "f08d11f0-6cda-4405-84d8-fd1e97ac000c"
      },
      "execution_count": null,
      "outputs": [
        {
          "output_type": "execute_result",
          "data": {
            "text/plain": [
              "                        Model Accuracy\n",
              "Model Name                            \n",
              "XGBClassifier                 0.755396\n",
              "LogisticRegression            0.751439\n",
              "SVC                           0.742446\n",
              "RandomForestClassifier        0.741727\n",
              "LGBMClassifier                0.733094\n",
              "SGDClassifier                 0.691007\n",
              "DecisionTreeClassifier        0.676978"
            ],
            "text/html": [
              "\n",
              "  <div id=\"df-1adc941c-e793-42d3-aecd-d5011fc86453\">\n",
              "    <div class=\"colab-df-container\">\n",
              "      <div>\n",
              "<style scoped>\n",
              "    .dataframe tbody tr th:only-of-type {\n",
              "        vertical-align: middle;\n",
              "    }\n",
              "\n",
              "    .dataframe tbody tr th {\n",
              "        vertical-align: top;\n",
              "    }\n",
              "\n",
              "    .dataframe thead th {\n",
              "        text-align: right;\n",
              "    }\n",
              "</style>\n",
              "<table border=\"1\" class=\"dataframe\">\n",
              "  <thead>\n",
              "    <tr style=\"text-align: right;\">\n",
              "      <th></th>\n",
              "      <th>Model Accuracy</th>\n",
              "    </tr>\n",
              "    <tr>\n",
              "      <th>Model Name</th>\n",
              "      <th></th>\n",
              "    </tr>\n",
              "  </thead>\n",
              "  <tbody>\n",
              "    <tr>\n",
              "      <th>XGBClassifier</th>\n",
              "      <td>0.755396</td>\n",
              "    </tr>\n",
              "    <tr>\n",
              "      <th>LogisticRegression</th>\n",
              "      <td>0.751439</td>\n",
              "    </tr>\n",
              "    <tr>\n",
              "      <th>SVC</th>\n",
              "      <td>0.742446</td>\n",
              "    </tr>\n",
              "    <tr>\n",
              "      <th>RandomForestClassifier</th>\n",
              "      <td>0.741727</td>\n",
              "    </tr>\n",
              "    <tr>\n",
              "      <th>LGBMClassifier</th>\n",
              "      <td>0.733094</td>\n",
              "    </tr>\n",
              "    <tr>\n",
              "      <th>SGDClassifier</th>\n",
              "      <td>0.691007</td>\n",
              "    </tr>\n",
              "    <tr>\n",
              "      <th>DecisionTreeClassifier</th>\n",
              "      <td>0.676978</td>\n",
              "    </tr>\n",
              "  </tbody>\n",
              "</table>\n",
              "</div>\n",
              "      <button class=\"colab-df-convert\" onclick=\"convertToInteractive('df-1adc941c-e793-42d3-aecd-d5011fc86453')\"\n",
              "              title=\"Convert this dataframe to an interactive table.\"\n",
              "              style=\"display:none;\">\n",
              "        \n",
              "  <svg xmlns=\"http://www.w3.org/2000/svg\" height=\"24px\"viewBox=\"0 0 24 24\"\n",
              "       width=\"24px\">\n",
              "    <path d=\"M0 0h24v24H0V0z\" fill=\"none\"/>\n",
              "    <path d=\"M18.56 5.44l.94 2.06.94-2.06 2.06-.94-2.06-.94-.94-2.06-.94 2.06-2.06.94zm-11 1L8.5 8.5l.94-2.06 2.06-.94-2.06-.94L8.5 2.5l-.94 2.06-2.06.94zm10 10l.94 2.06.94-2.06 2.06-.94-2.06-.94-.94-2.06-.94 2.06-2.06.94z\"/><path d=\"M17.41 7.96l-1.37-1.37c-.4-.4-.92-.59-1.43-.59-.52 0-1.04.2-1.43.59L10.3 9.45l-7.72 7.72c-.78.78-.78 2.05 0 2.83L4 21.41c.39.39.9.59 1.41.59.51 0 1.02-.2 1.41-.59l7.78-7.78 2.81-2.81c.8-.78.8-2.07 0-2.86zM5.41 20L4 18.59l7.72-7.72 1.47 1.35L5.41 20z\"/>\n",
              "  </svg>\n",
              "      </button>\n",
              "      \n",
              "  <style>\n",
              "    .colab-df-container {\n",
              "      display:flex;\n",
              "      flex-wrap:wrap;\n",
              "      gap: 12px;\n",
              "    }\n",
              "\n",
              "    .colab-df-convert {\n",
              "      background-color: #E8F0FE;\n",
              "      border: none;\n",
              "      border-radius: 50%;\n",
              "      cursor: pointer;\n",
              "      display: none;\n",
              "      fill: #1967D2;\n",
              "      height: 32px;\n",
              "      padding: 0 0 0 0;\n",
              "      width: 32px;\n",
              "    }\n",
              "\n",
              "    .colab-df-convert:hover {\n",
              "      background-color: #E2EBFA;\n",
              "      box-shadow: 0px 1px 2px rgba(60, 64, 67, 0.3), 0px 1px 3px 1px rgba(60, 64, 67, 0.15);\n",
              "      fill: #174EA6;\n",
              "    }\n",
              "\n",
              "    [theme=dark] .colab-df-convert {\n",
              "      background-color: #3B4455;\n",
              "      fill: #D2E3FC;\n",
              "    }\n",
              "\n",
              "    [theme=dark] .colab-df-convert:hover {\n",
              "      background-color: #434B5C;\n",
              "      box-shadow: 0px 1px 3px 1px rgba(0, 0, 0, 0.15);\n",
              "      filter: drop-shadow(0px 1px 2px rgba(0, 0, 0, 0.3));\n",
              "      fill: #FFFFFF;\n",
              "    }\n",
              "  </style>\n",
              "\n",
              "      <script>\n",
              "        const buttonEl =\n",
              "          document.querySelector('#df-1adc941c-e793-42d3-aecd-d5011fc86453 button.colab-df-convert');\n",
              "        buttonEl.style.display =\n",
              "          google.colab.kernel.accessAllowed ? 'block' : 'none';\n",
              "\n",
              "        async function convertToInteractive(key) {\n",
              "          const element = document.querySelector('#df-1adc941c-e793-42d3-aecd-d5011fc86453');\n",
              "          const dataTable =\n",
              "            await google.colab.kernel.invokeFunction('convertToInteractive',\n",
              "                                                     [key], {});\n",
              "          if (!dataTable) return;\n",
              "\n",
              "          const docLinkHtml = 'Like what you see? Visit the ' +\n",
              "            '<a target=\"_blank\" href=https://colab.research.google.com/notebooks/data_table.ipynb>data table notebook</a>'\n",
              "            + ' to learn more about interactive tables.';\n",
              "          element.innerHTML = '';\n",
              "          dataTable['output_type'] = 'display_data';\n",
              "          await google.colab.output.renderOutput(dataTable, element);\n",
              "          const docLink = document.createElement('div');\n",
              "          docLink.innerHTML = docLinkHtml;\n",
              "          element.appendChild(docLink);\n",
              "        }\n",
              "      </script>\n",
              "    </div>\n",
              "  </div>\n",
              "  "
            ]
          },
          "metadata": {},
          "execution_count": 279
        }
      ]
    },
    {
      "cell_type": "code",
      "source": [
        "# barplot plot of Model Accuracy\n",
        "plt.figure(figsize=(10,5))\n",
        "sns.barplot(acc1['Model Accuracy'], acc1.index)\n",
        "plt.xlabel('Model Accuracy', fontsize = 12)\n",
        "plt.ylabel('Model Name', fontsize = 12);"
      ],
      "metadata": {
        "colab": {
          "base_uri": "https://localhost:8080/",
          "height": 337
        },
        "id": "-kB7yAb60m94",
        "outputId": "f67250d3-5191-455a-c541-ed1213f2431f"
      },
      "execution_count": null,
      "outputs": [
        {
          "output_type": "display_data",
          "data": {
            "text/plain": [
              "<Figure size 720x360 with 1 Axes>"
            ],
            "image/png": "[encoded data removed]"
          },
          "metadata": {
            "needs_background": "light"
          }
        }
      ]
    },
    {
      "cell_type": "markdown",
      "source": [
        "Dadas as características do problema e o desempenho durante as execuções anteriores, optei pelo RandomForestClassifier.\n",
        "\n",
        "Meu entendimento é que o tuning dos parâmetros pode melhorar ainda mais a qualidade da solução.\n",
        "\n",
        "## Otimização dos Hiperparâmetros\n",
        "\n",
        "RandomForestClassifier possui inúmeros parâmetros. Alguns afetam mais a qualidade do modelo, outros menos. Uma boa prática é definir uma taxa de aprendizado e número de estimadores, realizar tuning de outros parâmetros e, no final, checar outras taxas de aprendizado.\n",
        "\n",
        "Para definir os parâmetros mais ajustados, iremos explorar as variações com o OPTUNA."
      ],
      "metadata": {
        "id": "6dwAPfGaa6OF"
      }
    },
    {
      "cell_type": "code",
      "source": [
        "# instalando o optuna\n",
        "!pip install optuna"
      ],
      "metadata": {
        "colab": {
          "base_uri": "https://localhost:8080/"
        },
        "id": "PMMd1-lddaqN",
        "outputId": "0818f184-0986-4d1e-d4f9-4d09b0eacd11"
      },
      "execution_count": null,
      "outputs": [
        {
          "output_type": "stream",
          "name": "stdout",
          "text": [
            "Looking in indexes: https://pypi.org/simple, https://us-python.pkg.dev/colab-wheels/public/simple/\n",
            "Requirement already satisfied: optuna in /usr/local/lib/python3.8/dist-packages (3.0.5)\n",
            "Requirement already satisfied: cmaes>=0.8.2 in /usr/local/lib/python3.8/dist-packages (from optuna) (0.9.0)\n",
            "Requirement already satisfied: cliff in /usr/local/lib/python3.8/dist-packages (from optuna) (4.1.0)\n",
            "Requirement already satisfied: packaging>=20.0 in /usr/local/lib/python3.8/dist-packages (from optuna) (21.3)\n",
            "Requirement already satisfied: colorlog in /usr/local/lib/python3.8/dist-packages (from optuna) (6.7.0)\n",
            "Requirement already satisfied: alembic>=1.5.0 in /usr/local/lib/python3.8/dist-packages (from optuna) (1.9.0)\n",
            "Requirement already satisfied: numpy in /usr/local/lib/python3.8/dist-packages (from optuna) (1.21.6)\n",
            "Requirement already satisfied: sqlalchemy>=1.3.0 in /usr/local/lib/python3.8/dist-packages (from optuna) (1.4.45)\n",
            "Requirement already satisfied: importlib-metadata<5.0.0 in /usr/local/lib/python3.8/dist-packages (from optuna) (4.13.0)\n",
            "Requirement already satisfied: PyYAML in /usr/local/lib/python3.8/dist-packages (from optuna) (6.0)\n",
            "Requirement already satisfied: scipy<1.9.0,>=1.7.0 in /usr/local/lib/python3.8/dist-packages (from optuna) (1.7.3)\n",
            "Requirement already satisfied: tqdm in /usr/local/lib/python3.8/dist-packages (from optuna) (4.64.1)\n",
            "Requirement already satisfied: Mako in /usr/local/lib/python3.8/dist-packages (from alembic>=1.5.0->optuna) (1.2.4)\n",
            "Requirement already satisfied: importlib-resources in /usr/local/lib/python3.8/dist-packages (from alembic>=1.5.0->optuna) (5.10.1)\n",
            "Requirement already satisfied: zipp>=0.5 in /usr/local/lib/python3.8/dist-packages (from importlib-metadata<5.0.0->optuna) (3.11.0)\n",
            "Requirement already satisfied: pyparsing!=3.0.5,>=2.0.2 in /usr/local/lib/python3.8/dist-packages (from packaging>=20.0->optuna) (3.0.9)\n",
            "Requirement already satisfied: greenlet!=0.4.17 in /usr/local/lib/python3.8/dist-packages (from sqlalchemy>=1.3.0->optuna) (2.0.1)\n",
            "Requirement already satisfied: PrettyTable>=0.7.2 in /usr/local/lib/python3.8/dist-packages (from cliff->optuna) (3.5.0)\n",
            "Requirement already satisfied: stevedore>=2.0.1 in /usr/local/lib/python3.8/dist-packages (from cliff->optuna) (4.1.1)\n",
            "Requirement already satisfied: cmd2>=1.0.0 in /usr/local/lib/python3.8/dist-packages (from cliff->optuna) (2.4.2)\n",
            "Requirement already satisfied: autopage>=0.4.0 in /usr/local/lib/python3.8/dist-packages (from cliff->optuna) (0.5.1)\n",
            "Requirement already satisfied: wcwidth>=0.1.7 in /usr/local/lib/python3.8/dist-packages (from cmd2>=1.0.0->cliff->optuna) (0.2.5)\n",
            "Requirement already satisfied: attrs>=16.3.0 in /usr/local/lib/python3.8/dist-packages (from cmd2>=1.0.0->cliff->optuna) (22.1.0)\n",
            "Requirement already satisfied: pyperclip>=1.6 in /usr/local/lib/python3.8/dist-packages (from cmd2>=1.0.0->cliff->optuna) (1.8.2)\n",
            "Requirement already satisfied: pbr!=2.1.0,>=2.0.0 in /usr/local/lib/python3.8/dist-packages (from stevedore>=2.0.1->cliff->optuna) (5.11.0)\n",
            "Requirement already satisfied: MarkupSafe>=0.9.2 in /usr/local/lib/python3.8/dist-packages (from Mako->alembic>=1.5.0->optuna) (2.0.1)\n"
          ]
        }
      ]
    },
    {
      "cell_type": "code",
      "source": [
        "import numpy as np\n",
        "import optuna\n",
        "\n",
        "import sklearn.datasets\n",
        "import sklearn.metrics\n",
        "from sklearn.model_selection import train_test_split\n",
        "import xgboost as xgb\n",
        "\n",
        "def objective(trial):\n",
        "    train_x, valid_x, train_y, valid_y = train_test_split(X, y, test_size=0.25)\n",
        "    dtrain = xgb.DMatrix(train_x, label=train_y)\n",
        "    dvalid = xgb.DMatrix(valid_x, label=valid_y)\n",
        "\n",
        "    param = {\n",
        "        \"verbosity\": 0,\n",
        "        \"objective\": \"binary:logistic\",\n",
        "        # use exact for small dataset.\n",
        "        \"tree_method\": \"approx\",\n",
        "        \"eval_metric\": \"auc\",\n",
        "        # defines booster, gblinear for linear functions.\n",
        "        \"booster\": trial.suggest_categorical(\"booster\", [\"gbtree\", \"gblinear\", \"dart\"]),\n",
        "        # L2 regularization weight.\n",
        "        \"lambda\": trial.suggest_float(\"lambda\", 1e-8, 1.0, log=True),\n",
        "        # L1 regularization weight.\n",
        "        \"alpha\": trial.suggest_float(\"alpha\", 1e-8, 1.0, log=True),\n",
        "        # sampling ratio for training data.\n",
        "        \"subsample\": trial.suggest_float(\"subsample\", 0.2, 1.0),\n",
        "        # sampling according to each tree.\n",
        "        \"colsample_bytree\": trial.suggest_float(\"colsample_bytree\", 0.2, 1.0),\n",
        "    }\n",
        "\n",
        "    if param[\"booster\"] in [\"gbtree\", \"dart\"]:\n",
        "        # maximum depth of the tree, signifies complexity of the tree.\n",
        "        param[\"max_depth\"] = trial.suggest_int(\"max_depth\", 3, 9, step=2)\n",
        "        # minimum child weight, larger the term more conservative the tree.\n",
        "        param[\"min_child_weight\"] = trial.suggest_int(\"min_child_weight\", 2, 10)\n",
        "        param[\"eta\"] = trial.suggest_float(\"eta\", 1e-8, 1.0, log=True)\n",
        "        # defines how selective algorithm is.\n",
        "        param[\"gamma\"] = trial.suggest_float(\"gamma\", 1e-8, 1.0, log=True)\n",
        "        param[\"grow_policy\"] = trial.suggest_categorical(\"grow_policy\", [\"depthwise\", \"lossguide\"])\n",
        "\n",
        "    if param[\"booster\"] == \"dart\":\n",
        "        param[\"sample_type\"] = trial.suggest_categorical(\"sample_type\", [\"uniform\", \"weighted\"])\n",
        "        param[\"normalize_type\"] = trial.suggest_categorical(\"normalize_type\", [\"tree\", \"forest\"])\n",
        "        param[\"rate_drop\"] = trial.suggest_float(\"rate_drop\", 1e-8, 1.0, log=True)\n",
        "        param[\"skip_drop\"] = trial.suggest_float(\"skip_drop\", 1e-8, 1.0, log=True)\n",
        "\n",
        "    bst = xgb.train(param, dtrain)\n",
        "    preds = bst.predict(dvalid)\n",
        "    pred_labels = np.rint(preds)\n",
        "    accuracy = sklearn.metrics.accuracy_score(valid_y, pred_labels)\n",
        "    return accuracy\n",
        "\n",
        "\n",
        "if __name__ == \"__main__\":\n",
        "    study = optuna.create_study(direction=\"maximize\")\n",
        "    study.optimize(objective, n_trials=100, timeout=600)\n",
        "\n",
        "    print(\"Number of finished trials: \", len(study.trials))\n",
        "    print(\"Best trial:\")\n",
        "    trial = study.best_trial\n",
        "\n",
        "    print(\"  Value: {}\".format(trial.value))\n",
        "    print(\"  Params: \")\n",
        "    for key, value in trial.params.items():\n",
        "        print(\"    {}: {}\".format(key, value))"
      ],
      "metadata": {
        "colab": {
          "base_uri": "https://localhost:8080/"
        },
        "id": "v97hekoM-5Lh",
        "outputId": "80c25b73-d853-4b94-bf6f-75dd9f981c53"
      },
      "execution_count": null,
      "outputs": [
        {
          "output_type": "stream",
          "name": "stderr",
          "text": [
            "\u001b[32m[I 2022-12-20 20:54:01,374]\u001b[0m A new study created in memory with name: no-name-462d841c-204c-4ec2-b59d-33997ed3ff68\u001b[0m\n",
            "\u001b[32m[I 2022-12-20 20:54:01,435]\u001b[0m Trial 0 finished with value: 0.7932992617830777 and parameters: {'booster': 'gblinear', 'lambda': 0.5446394707395117, 'alpha': 0.0004127447670834184, 'subsample': 0.9434100671441825, 'colsample_bytree': 0.32873373751123874}. Best is trial 0 with value: 0.7932992617830777.\u001b[0m\n",
            "\u001b[32m[I 2022-12-20 20:54:01,763]\u001b[0m Trial 1 finished with value: 0.7819420783645656 and parameters: {'booster': 'gbtree', 'lambda': 0.07754777869308932, 'alpha': 0.032246945513354726, 'subsample': 0.9823742469322747, 'colsample_bytree': 0.6601129512858535, 'max_depth': 9, 'min_child_weight': 2, 'eta': 8.561208989819709e-06, 'gamma': 0.0015862836727929936, 'grow_policy': 'depthwise'}. Best is trial 0 with value: 0.7932992617830777.\u001b[0m\n",
            "\u001b[32m[I 2022-12-20 20:54:01,904]\u001b[0m Trial 2 finished with value: 0.797274275979557 and parameters: {'booster': 'gbtree', 'lambda': 1.1042985176338681e-05, 'alpha': 0.024275478753198056, 'subsample': 0.34846835183547553, 'colsample_bytree': 0.4800086240867992, 'max_depth': 5, 'min_child_weight': 10, 'eta': 1.3060166848516035e-05, 'gamma': 0.014927817631548216, 'grow_policy': 'depthwise'}. Best is trial 2 with value: 0.797274275979557.\u001b[0m\n",
            "\u001b[32m[I 2022-12-20 20:54:02,128]\u001b[0m Trial 3 finished with value: 0.8001135718341851 and parameters: {'booster': 'gbtree', 'lambda': 0.00010026129127691378, 'alpha': 0.33059523134011826, 'subsample': 0.20683016027014736, 'colsample_bytree': 0.7285563450543691, 'max_depth': 9, 'min_child_weight': 2, 'eta': 0.00010134474268563793, 'gamma': 0.05050545034605193, 'grow_policy': 'lossguide'}. Best is trial 3 with value: 0.8001135718341851.\u001b[0m\n",
            "\u001b[32m[I 2022-12-20 20:54:02,286]\u001b[0m Trial 4 finished with value: 0.7819420783645656 and parameters: {'booster': 'dart', 'lambda': 0.8515697862523757, 'alpha': 3.180390033594477e-05, 'subsample': 0.9218948165757979, 'colsample_bytree': 0.517284930174928, 'max_depth': 3, 'min_child_weight': 9, 'eta': 0.000263211940994072, 'gamma': 1.3327224945687435e-08, 'grow_policy': 'lossguide', 'sample_type': 'weighted', 'normalize_type': 'tree', 'rate_drop': 1.564198232791956e-08, 'skip_drop': 0.015206462245386118}. Best is trial 3 with value: 0.8001135718341851.\u001b[0m\n",
            "\u001b[32m[I 2022-12-20 20:54:02,459]\u001b[0m Trial 5 finished with value: 0.7938671209540034 and parameters: {'booster': 'gbtree', 'lambda': 2.5808124540832845e-06, 'alpha': 0.00289895348504993, 'subsample': 0.4479954970728313, 'colsample_bytree': 0.31297090055114085, 'max_depth': 3, 'min_child_weight': 2, 'eta': 0.00016596979865660385, 'gamma': 7.874324043590552e-05, 'grow_policy': 'depthwise'}. Best is trial 3 with value: 0.8001135718341851.\u001b[0m\n",
            "\u001b[32m[I 2022-12-20 20:54:02,929]\u001b[0m Trial 6 finished with value: 0.80465644520159 and parameters: {'booster': 'gbtree', 'lambda': 0.10905760550769167, 'alpha': 1.0928527007477319e-08, 'subsample': 0.5062121300539518, 'colsample_bytree': 0.9227944195863518, 'max_depth': 7, 'min_child_weight': 5, 'eta': 5.621889074296652e-06, 'gamma': 3.008782520959641e-08, 'grow_policy': 'depthwise'}. Best is trial 6 with value: 0.80465644520159.\u001b[0m\n",
            "\u001b[32m[I 2022-12-20 20:54:03,219]\u001b[0m Trial 7 finished with value: 0.797274275979557 and parameters: {'booster': 'gbtree', 'lambda': 8.776471486114672e-06, 'alpha': 0.07467743406208842, 'subsample': 0.8279537481662371, 'colsample_bytree': 0.9871778511421505, 'max_depth': 3, 'min_child_weight': 9, 'eta': 0.16281043422373231, 'gamma': 0.03540656584503893, 'grow_policy': 'depthwise'}. Best is trial 6 with value: 0.80465644520159.\u001b[0m\n",
            "\u001b[32m[I 2022-12-20 20:54:03,541]\u001b[0m Trial 8 finished with value: 0.7967064168086314 and parameters: {'booster': 'gbtree', 'lambda': 1.1791701964595252e-05, 'alpha': 0.622773338747552, 'subsample': 0.7238381034122152, 'colsample_bytree': 0.753418686021563, 'max_depth': 5, 'min_child_weight': 8, 'eta': 0.05822602741823763, 'gamma': 0.033283750439637584, 'grow_policy': 'depthwise'}. Best is trial 6 with value: 0.80465644520159.\u001b[0m\n",
            "\u001b[32m[I 2022-12-20 20:54:03,712]\u001b[0m Trial 9 finished with value: 0.7836456558773425 and parameters: {'booster': 'gbtree', 'lambda': 7.031012128028069e-06, 'alpha': 0.5138701461232836, 'subsample': 0.22734043916195576, 'colsample_bytree': 0.5749060204344123, 'max_depth': 3, 'min_child_weight': 9, 'eta': 4.9981061612159556e-06, 'gamma': 0.024844591514321203, 'grow_policy': 'depthwise'}. Best is trial 6 with value: 0.80465644520159.\u001b[0m\n",
            "\u001b[32m[I 2022-12-20 20:54:03,840]\u001b[0m Trial 10 finished with value: 0.8080636002271436 and parameters: {'booster': 'gblinear', 'lambda': 1.87255123338814e-08, 'alpha': 1.0886705276126451e-08, 'subsample': 0.577867559185133, 'colsample_bytree': 0.9820511775783831}. Best is trial 10 with value: 0.8080636002271436.\u001b[0m\n",
            "\u001b[32m[I 2022-12-20 20:54:03,960]\u001b[0m Trial 11 finished with value: 0.8063600227143668 and parameters: {'booster': 'gblinear', 'lambda': 7.092696656666711e-08, 'alpha': 1.2037881932015336e-08, 'subsample': 0.5839678815644006, 'colsample_bytree': 0.9938338469570189}. Best is trial 10 with value: 0.8080636002271436.\u001b[0m\n",
            "\u001b[32m[I 2022-12-20 20:54:04,083]\u001b[0m Trial 12 finished with value: 0.7984099943214082 and parameters: {'booster': 'gblinear', 'lambda': 1.0574229273283341e-08, 'alpha': 1.1343420661792247e-08, 'subsample': 0.6396174199599617, 'colsample_bytree': 0.8500286503243927}. Best is trial 10 with value: 0.8080636002271436.\u001b[0m\n",
            "\u001b[32m[I 2022-12-20 20:54:04,206]\u001b[0m Trial 13 finished with value: 0.8063600227143668 and parameters: {'booster': 'gblinear', 'lambda': 2.976063461107099e-08, 'alpha': 1.199341705603469e-06, 'subsample': 0.6128065194104593, 'colsample_bytree': 0.831215503947292}. Best is trial 10 with value: 0.8080636002271436.\u001b[0m\n",
            "\u001b[32m[I 2022-12-20 20:54:04,334]\u001b[0m Trial 14 finished with value: 0.7950028392958546 and parameters: {'booster': 'gblinear', 'lambda': 1.771132123198743e-07, 'alpha': 3.4605392298232935e-07, 'subsample': 0.49550080465790136, 'colsample_bytree': 0.9512985694966473}. Best is trial 10 with value: 0.8080636002271436.\u001b[0m\n",
            "\u001b[32m[I 2022-12-20 20:54:04,457]\u001b[0m Trial 15 finished with value: 0.7967064168086314 and parameters: {'booster': 'gblinear', 'lambda': 2.1788920592703884e-07, 'alpha': 3.040424246333609e-07, 'subsample': 0.7193656832692273, 'colsample_bytree': 0.8340007291044808}. Best is trial 10 with value: 0.8080636002271436.\u001b[0m\n",
            "\u001b[32m[I 2022-12-20 20:54:05,015]\u001b[0m Trial 16 finished with value: 0.7887563884156729 and parameters: {'booster': 'dart', 'lambda': 0.0016231927122183692, 'alpha': 6.491330883593756e-06, 'subsample': 0.38908961806652687, 'colsample_bytree': 0.9818405284957054, 'max_depth': 7, 'min_child_weight': 5, 'eta': 7.434683248087077e-08, 'gamma': 9.459516168793089e-07, 'grow_policy': 'lossguide', 'sample_type': 'uniform', 'normalize_type': 'forest', 'rate_drop': 0.04731730817398611, 'skip_drop': 1.6055190625146947e-08}. Best is trial 10 with value: 0.8080636002271436.\u001b[0m\n",
            "\u001b[32m[I 2022-12-20 20:54:05,143]\u001b[0m Trial 17 finished with value: 0.8057921635434412 and parameters: {'booster': 'gblinear', 'lambda': 1.9081739075659618e-08, 'alpha': 6.057969224379965e-07, 'subsample': 0.6633998303685475, 'colsample_bytree': 0.8357538116919152}. Best is trial 10 with value: 0.8080636002271436.\u001b[0m\n",
            "\u001b[32m[I 2022-12-20 20:54:05,276]\u001b[0m Trial 18 finished with value: 0.7927314026121521 and parameters: {'booster': 'gblinear', 'lambda': 6.871045985993975e-07, 'alpha': 3.0095082201686696e-06, 'subsample': 0.7921345745629079, 'colsample_bytree': 0.7639775233878716}. Best is trial 10 with value: 0.8080636002271436.\u001b[0m\n",
            "\u001b[32m[I 2022-12-20 20:54:05,405]\u001b[0m Trial 19 finished with value: 0.8023850085178875 and parameters: {'booster': 'gblinear', 'lambda': 0.0003107806835809772, 'alpha': 6.239140369987385e-08, 'subsample': 0.548551198068333, 'colsample_bytree': 0.2136617012557555}. Best is trial 10 with value: 0.8080636002271436.\u001b[0m\n",
            "\u001b[32m[I 2022-12-20 20:54:05,796]\u001b[0m Trial 20 finished with value: 0.7836456558773425 and parameters: {'booster': 'dart', 'lambda': 1.1843134258246008e-07, 'alpha': 7.601043868056939e-08, 'subsample': 0.334658692155637, 'colsample_bytree': 0.8949073027519763, 'max_depth': 7, 'min_child_weight': 7, 'eta': 1.5433886144702574e-08, 'gamma': 1.8733110137130764e-05, 'grow_policy': 'lossguide', 'sample_type': 'weighted', 'normalize_type': 'forest', 'rate_drop': 5.888724673421746e-07, 'skip_drop': 0.663701758877389}. Best is trial 10 with value: 0.8080636002271436.\u001b[0m\n",
            "\u001b[32m[I 2022-12-20 20:54:05,882]\u001b[0m Trial 21 finished with value: 0.7978421351504826 and parameters: {'booster': 'gblinear', 'lambda': 5.631561782334411e-08, 'alpha': 7.509920913018058e-08, 'subsample': 0.5584003950570043, 'colsample_bytree': 0.9991919214735845}. Best is trial 10 with value: 0.8080636002271436.\u001b[0m\n",
            "\u001b[32m[I 2022-12-20 20:54:05,956]\u001b[0m Trial 22 finished with value: 0.8057921635434412 and parameters: {'booster': 'gblinear', 'lambda': 8.170239473309599e-07, 'alpha': 1.5909088117407646e-06, 'subsample': 0.6159459434840981, 'colsample_bytree': 0.8896860647294471}. Best is trial 10 with value: 0.8080636002271436.\u001b[0m\n",
            "\u001b[32m[I 2022-12-20 20:54:06,031]\u001b[0m Trial 23 finished with value: 0.7881885292447472 and parameters: {'booster': 'gblinear', 'lambda': 3.58229523830051e-08, 'alpha': 1.9862316397670678e-05, 'subsample': 0.6884059547132763, 'colsample_bytree': 0.8168129817306835}. Best is trial 10 with value: 0.8080636002271436.\u001b[0m\n",
            "\u001b[32m[I 2022-12-20 20:54:06,110]\u001b[0m Trial 24 finished with value: 0.8018171493469619 and parameters: {'booster': 'gblinear', 'lambda': 6.170440234004103e-07, 'alpha': 3.118000983941037e-08, 'subsample': 0.5798925024013019, 'colsample_bytree': 0.927367128541613}. Best is trial 10 with value: 0.8080636002271436.\u001b[0m\n",
            "\u001b[32m[I 2022-12-20 20:54:06,189]\u001b[0m Trial 25 finished with value: 0.7995457126632595 and parameters: {'booster': 'gblinear', 'lambda': 4.0441368616437964e-08, 'alpha': 2.906305510642953e-07, 'subsample': 0.7691598037894585, 'colsample_bytree': 0.884320231884219}. Best is trial 10 with value: 0.8080636002271436.\u001b[0m\n",
            "\u001b[32m[I 2022-12-20 20:54:06,270]\u001b[0m Trial 26 finished with value: 0.8018171493469619 and parameters: {'booster': 'gblinear', 'lambda': 1.2111444004781651e-08, 'alpha': 0.0003914110561484608, 'subsample': 0.44896352745913737, 'colsample_bytree': 0.6746836353941712}. Best is trial 10 with value: 0.8080636002271436.\u001b[0m\n",
            "\u001b[32m[I 2022-12-20 20:54:06,559]\u001b[0m Trial 27 finished with value: 0.7898921067575241 and parameters: {'booster': 'dart', 'lambda': 2.064914499592134e-06, 'alpha': 3.437038283143163e-08, 'subsample': 0.843107740912553, 'colsample_bytree': 0.9297187595745914, 'max_depth': 5, 'min_child_weight': 4, 'eta': 0.00946135678245891, 'gamma': 0.7710832397505806, 'grow_policy': 'lossguide', 'sample_type': 'uniform', 'normalize_type': 'tree', 'rate_drop': 0.5993226628730574, 'skip_drop': 6.699437403020022e-07}. Best is trial 10 with value: 0.8080636002271436.\u001b[0m\n",
            "\u001b[32m[I 2022-12-20 20:54:06,642]\u001b[0m Trial 28 finished with value: 0.80465644520159 and parameters: {'booster': 'gblinear', 'lambda': 1.7926444047509717e-07, 'alpha': 7.550489942529965e-07, 'subsample': 0.6107689093787794, 'colsample_bytree': 0.8029846837067186}. Best is trial 10 with value: 0.8080636002271436.\u001b[0m\n",
            "\u001b[32m[I 2022-12-20 20:54:06,724]\u001b[0m Trial 29 finished with value: 0.7950028392958546 and parameters: {'booster': 'gblinear', 'lambda': 0.0008366038695171854, 'alpha': 1.0449043357651117e-05, 'subsample': 0.5112789197001126, 'colsample_bytree': 0.6926930284843701}. Best is trial 10 with value: 0.8080636002271436.\u001b[0m\n",
            "\u001b[32m[I 2022-12-20 20:54:06,815]\u001b[0m Trial 30 finished with value: 0.7967064168086314 and parameters: {'booster': 'gblinear', 'lambda': 0.009928922925164174, 'alpha': 0.000341293727128418, 'subsample': 0.46887739008960905, 'colsample_bytree': 0.43184170937961086}. Best is trial 10 with value: 0.8080636002271436.\u001b[0m\n",
            "\u001b[32m[I 2022-12-20 20:54:06,897]\u001b[0m Trial 31 finished with value: 0.8114707552526973 and parameters: {'booster': 'gblinear', 'lambda': 1.78493053210288e-08, 'alpha': 7.350788455918095e-05, 'subsample': 0.6584776626171832, 'colsample_bytree': 0.8594473588948726}. Best is trial 31 with value: 0.8114707552526973.\u001b[0m\n",
            "\u001b[32m[I 2022-12-20 20:54:06,973]\u001b[0m Trial 32 finished with value: 0.8057921635434412 and parameters: {'booster': 'gblinear', 'lambda': 4.5648409681617836e-08, 'alpha': 0.000109667936375027, 'subsample': 0.6778107892531184, 'colsample_bytree': 0.6065226309122923}. Best is trial 31 with value: 0.8114707552526973.\u001b[0m\n",
            "\u001b[32m[I 2022-12-20 20:54:07,059]\u001b[0m Trial 33 finished with value: 0.8029528676888131 and parameters: {'booster': 'gblinear', 'lambda': 1.2639628176887564e-08, 'alpha': 0.0022194193785728747, 'subsample': 0.576167351384299, 'colsample_bytree': 0.9605045159855291}. Best is trial 31 with value: 0.8114707552526973.\u001b[0m\n",
            "\u001b[32m[I 2022-12-20 20:54:07,133]\u001b[0m Trial 34 finished with value: 0.8052243043725156 and parameters: {'booster': 'gblinear', 'lambda': 1.2241671003511085e-07, 'alpha': 8.235326878881774e-05, 'subsample': 0.720956066008564, 'colsample_bytree': 0.779450832386904}. Best is trial 31 with value: 0.8114707552526973.\u001b[0m\n",
            "\u001b[32m[I 2022-12-20 20:54:07,208]\u001b[0m Trial 35 finished with value: 0.8012492901760363 and parameters: {'booster': 'gblinear', 'lambda': 6.025433571402885e-08, 'alpha': 1.4590614908500703e-07, 'subsample': 0.6251898218491926, 'colsample_bytree': 0.8736288648030115}. Best is trial 31 with value: 0.8114707552526973.\u001b[0m\n",
            "\u001b[32m[I 2022-12-20 20:54:07,543]\u001b[0m Trial 36 finished with value: 0.7529812606473595 and parameters: {'booster': 'dart', 'lambda': 5.07197869715117e-07, 'alpha': 2.962490088484584e-06, 'subsample': 0.42082808475630296, 'colsample_bytree': 0.7293041928430184, 'max_depth': 9, 'min_child_weight': 4, 'eta': 0.9509941347035878, 'gamma': 1.0841254300632505e-06, 'grow_policy': 'lossguide', 'sample_type': 'weighted', 'normalize_type': 'forest', 'rate_drop': 0.00012201598313115033, 'skip_drop': 6.522697429928206e-05}. Best is trial 31 with value: 0.8114707552526973.\u001b[0m\n",
            "\u001b[32m[I 2022-12-20 20:54:07,622]\u001b[0m Trial 37 finished with value: 0.7984099943214082 and parameters: {'booster': 'gblinear', 'lambda': 2.2228518188487095e-06, 'alpha': 0.0019475885085377049, 'subsample': 0.9081103947529199, 'colsample_bytree': 0.9265967288055825}. Best is trial 31 with value: 0.8114707552526973.\u001b[0m\n",
            "\u001b[32m[I 2022-12-20 20:54:07,696]\u001b[0m Trial 38 finished with value: 0.7978421351504826 and parameters: {'booster': 'gblinear', 'lambda': 2.5816860043898128e-08, 'alpha': 0.009534351672913057, 'subsample': 0.5449137793919064, 'colsample_bytree': 0.8687210863732233}. Best is trial 31 with value: 0.8114707552526973.\u001b[0m\n",
            "\u001b[32m[I 2022-12-20 20:54:07,781]\u001b[0m Trial 39 finished with value: 0.8086314593980692 and parameters: {'booster': 'gblinear', 'lambda': 2.9706596722327675e-05, 'alpha': 2.6625989366764058e-08, 'subsample': 0.7465536289642929, 'colsample_bytree': 0.6340497708553134}. Best is trial 31 with value: 0.8114707552526973.\u001b[0m\n",
            "\u001b[32m[I 2022-12-20 20:54:08,006]\u001b[0m Trial 40 finished with value: 0.8018171493469619 and parameters: {'booster': 'gbtree', 'lambda': 0.17096487496432894, 'alpha': 3.229866223184136e-08, 'subsample': 0.9863024645876037, 'colsample_bytree': 0.43434835714993547, 'max_depth': 7, 'min_child_weight': 7, 'eta': 3.0144588286886605e-07, 'gamma': 0.001242954455633363, 'grow_policy': 'lossguide'}. Best is trial 31 with value: 0.8114707552526973.\u001b[0m\n",
            "\u001b[32m[I 2022-12-20 20:54:08,087]\u001b[0m Trial 41 finished with value: 0.7978421351504826 and parameters: {'booster': 'gblinear', 'lambda': 0.010103591038507062, 'alpha': 1.6901070364320192e-08, 'subsample': 0.7605669460313285, 'colsample_bytree': 0.6285271231957872}. Best is trial 31 with value: 0.8114707552526973.\u001b[0m\n",
            "\u001b[32m[I 2022-12-20 20:54:08,164]\u001b[0m Trial 42 finished with value: 0.7989778534923339 and parameters: {'booster': 'gblinear', 'lambda': 5.3050946920209374e-05, 'alpha': 1.3707808333094468e-07, 'subsample': 0.6518370083196279, 'colsample_bytree': 0.5745995405972859}. Best is trial 31 with value: 0.8114707552526973.\u001b[0m\n",
            "\u001b[32m[I 2022-12-20 20:54:08,248]\u001b[0m Trial 43 finished with value: 0.7950028392958546 and parameters: {'booster': 'gblinear', 'lambda': 3.268030072879648e-05, 'alpha': 1.7192274435610947e-08, 'subsample': 0.8624116554340282, 'colsample_bytree': 0.48964350863146944}. Best is trial 31 with value: 0.8114707552526973.\u001b[0m\n",
            "\u001b[32m[I 2022-12-20 20:54:08,329]\u001b[0m Trial 44 finished with value: 0.8006814310051107 and parameters: {'booster': 'gblinear', 'lambda': 3.0017686963710176e-07, 'alpha': 1.0961125293155525e-08, 'subsample': 0.7099996538120407, 'colsample_bytree': 0.9604082414172328}. Best is trial 31 with value: 0.8114707552526973.\u001b[0m\n",
            "\u001b[32m[I 2022-12-20 20:54:08,576]\u001b[0m Trial 45 finished with value: 0.7927314026121521 and parameters: {'booster': 'gbtree', 'lambda': 7.488804511414372e-08, 'alpha': 1.48910882394659e-07, 'subsample': 0.5167017828091554, 'colsample_bytree': 0.7048563570835993, 'max_depth': 5, 'min_child_weight': 6, 'eta': 0.0021638482100509453, 'gamma': 3.906065620129699e-07, 'grow_policy': 'depthwise'}. Best is trial 31 with value: 0.8114707552526973.\u001b[0m\n",
            "\u001b[32m[I 2022-12-20 20:54:09,008]\u001b[0m Trial 46 finished with value: 0.7802385008517888 and parameters: {'booster': 'dart', 'lambda': 5.498503042813596e-06, 'alpha': 5.456443474671534e-05, 'subsample': 0.6007900890134669, 'colsample_bytree': 0.7910540179161222, 'max_depth': 9, 'min_child_weight': 3, 'eta': 0.002707469489162412, 'gamma': 1.0054180999310458e-05, 'grow_policy': 'lossguide', 'sample_type': 'uniform', 'normalize_type': 'tree', 'rate_drop': 0.0003778286279221165, 'skip_drop': 7.861810297170764e-05}. Best is trial 31 with value: 0.8114707552526973.\u001b[0m\n",
            "\u001b[32m[I 2022-12-20 20:54:09,086]\u001b[0m Trial 47 finished with value: 0.814877910278251 and parameters: {'booster': 'gblinear', 'lambda': 2.474435180193805e-08, 'alpha': 1.001064683649491e-06, 'subsample': 0.7484222973461935, 'colsample_bytree': 0.9836534700261554}. Best is trial 47 with value: 0.814877910278251.\u001b[0m\n",
            "\u001b[32m[I 2022-12-20 20:54:09,165]\u001b[0m Trial 48 finished with value: 0.787052810902896 and parameters: {'booster': 'gblinear', 'lambda': 2.1725789495785554e-08, 'alpha': 1.1511919270479505e-06, 'subsample': 0.7973940677707795, 'colsample_bytree': 0.5438197678917123}. Best is trial 47 with value: 0.814877910278251.\u001b[0m\n",
            "\u001b[32m[I 2022-12-20 20:54:09,557]\u001b[0m Trial 49 finished with value: 0.8057921635434412 and parameters: {'booster': 'gbtree', 'lambda': 3.8717098258816545e-07, 'alpha': 3.929849907535587e-08, 'subsample': 0.7528596612390402, 'colsample_bytree': 0.9853375969065875, 'max_depth': 7, 'min_child_weight': 10, 'eta': 5.365141792632163e-07, 'gamma': 0.3930533186267321, 'grow_policy': 'depthwise'}. Best is trial 47 with value: 0.814877910278251.\u001b[0m\n",
            "\u001b[32m[I 2022-12-20 20:54:09,638]\u001b[0m Trial 50 finished with value: 0.8040885860306644 and parameters: {'booster': 'gblinear', 'lambda': 2.088189324885086e-05, 'alpha': 9.651874026432483e-06, 'subsample': 0.8774136400311552, 'colsample_bytree': 0.6490698910393606}. Best is trial 47 with value: 0.814877910278251.\u001b[0m\n",
            "\u001b[32m[I 2022-12-20 20:54:09,714]\u001b[0m Trial 51 finished with value: 0.7864849517319704 and parameters: {'booster': 'gblinear', 'lambda': 1.0539853786953299e-07, 'alpha': 3.2001328748227396e-07, 'subsample': 0.6852399195310288, 'colsample_bytree': 0.9140436049739384}. Best is trial 47 with value: 0.814877910278251.\u001b[0m\n",
            "\u001b[32m[I 2022-12-20 20:54:09,788]\u001b[0m Trial 52 finished with value: 0.7717206132879046 and parameters: {'booster': 'gblinear', 'lambda': 2.1037516889427787e-08, 'alpha': 0.14439536772205194, 'subsample': 0.6446645348657598, 'colsample_bytree': 0.9506847564909292}. Best is trial 47 with value: 0.814877910278251.\u001b[0m\n",
            "\u001b[32m[I 2022-12-20 20:54:09,880]\u001b[0m Trial 53 finished with value: 0.7938671209540034 and parameters: {'booster': 'gblinear', 'lambda': 1.0827284376539008e-08, 'alpha': 2.628752832257503e-06, 'subsample': 0.7388310461043069, 'colsample_bytree': 0.8479169204040614}. Best is trial 47 with value: 0.814877910278251.\u001b[0m\n",
            "\u001b[32m[I 2022-12-20 20:54:09,955]\u001b[0m Trial 54 finished with value: 0.797274275979557 and parameters: {'booster': 'gblinear', 'lambda': 0.00019178498016033117, 'alpha': 8.37576559428183e-08, 'subsample': 0.791071949431466, 'colsample_bytree': 0.9955211273743162}. Best is trial 47 with value: 0.814877910278251.\u001b[0m\n",
            "\u001b[32m[I 2022-12-20 20:54:10,033]\u001b[0m Trial 55 finished with value: 0.797274275979557 and parameters: {'booster': 'gblinear', 'lambda': 1.2082445716102914e-06, 'alpha': 1.0289657312286276e-08, 'subsample': 0.6928106803699567, 'colsample_bytree': 0.7418206154859641}. Best is trial 47 with value: 0.814877910278251.\u001b[0m\n",
            "\u001b[32m[I 2022-12-20 20:54:10,112]\u001b[0m Trial 56 finished with value: 0.80465644520159 and parameters: {'booster': 'gblinear', 'lambda': 1.970992802796768e-07, 'alpha': 0.0001982377767007457, 'subsample': 0.5855082590960733, 'colsample_bytree': 0.32335086881554137}. Best is trial 47 with value: 0.814877910278251.\u001b[0m\n",
            "\u001b[32m[I 2022-12-20 20:54:10,435]\u001b[0m Trial 57 finished with value: 0.7984099943214082 and parameters: {'booster': 'dart', 'lambda': 3.5008877970637464e-08, 'alpha': 2.444726181123529e-05, 'subsample': 0.6477281756425175, 'colsample_bytree': 0.9566578427255257, 'max_depth': 5, 'min_child_weight': 7, 'eta': 0.03693486034459435, 'gamma': 0.0005366358508977683, 'grow_policy': 'lossguide', 'sample_type': 'weighted', 'normalize_type': 'forest', 'rate_drop': 1.2308836599326013e-06, 'skip_drop': 0.017091089736417066}. Best is trial 47 with value: 0.814877910278251.\u001b[0m\n",
            "\u001b[32m[I 2022-12-20 20:54:10,514]\u001b[0m Trial 58 finished with value: 0.8069278818852924 and parameters: {'booster': 'gblinear', 'lambda': 8.028191472569559e-08, 'alpha': 2.2256700430382442e-08, 'subsample': 0.5422600495902259, 'colsample_bytree': 0.8956056713157152}. Best is trial 47 with value: 0.814877910278251.\u001b[0m\n",
            "\u001b[32m[I 2022-12-20 20:54:10,592]\u001b[0m Trial 59 finished with value: 0.80465644520159 and parameters: {'booster': 'gblinear', 'lambda': 7.797542188010826e-08, 'alpha': 1.8780251855411563e-08, 'subsample': 0.5356725056511852, 'colsample_bytree': 0.9101893492757346}. Best is trial 47 with value: 0.814877910278251.\u001b[0m\n",
            "\u001b[32m[I 2022-12-20 20:54:10,682]\u001b[0m Trial 60 finished with value: 0.8018171493469619 and parameters: {'booster': 'gblinear', 'lambda': 1.017237545913253e-08, 'alpha': 6.113964751171116e-07, 'subsample': 0.4646347019302597, 'colsample_bytree': 0.8328618981721558}. Best is trial 47 with value: 0.814877910278251.\u001b[0m\n",
            "\u001b[32m[I 2022-12-20 20:54:10,764]\u001b[0m Trial 61 finished with value: 0.8154457694491766 and parameters: {'booster': 'gblinear', 'lambda': 2.5870009691911746e-08, 'alpha': 5.1544193313078525e-08, 'subsample': 0.5673005945209233, 'colsample_bytree': 0.894859022789108}. Best is trial 61 with value: 0.8154457694491766.\u001b[0m\n",
            "\u001b[32m[I 2022-12-20 20:54:10,849]\u001b[0m Trial 62 finished with value: 0.8080636002271436 and parameters: {'booster': 'gblinear', 'lambda': 2.113190609638721e-08, 'alpha': 5.754971479046347e-08, 'subsample': 0.503157402815892, 'colsample_bytree': 0.94591577648439}. Best is trial 61 with value: 0.8154457694491766.\u001b[0m\n",
            "\u001b[32m[I 2022-12-20 20:54:10,933]\u001b[0m Trial 63 finished with value: 0.7967064168086314 and parameters: {'booster': 'gblinear', 'lambda': 2.157304089694002e-08, 'alpha': 4.357579711963855e-08, 'subsample': 0.41448025022863355, 'colsample_bytree': 0.8645523655145678}. Best is trial 61 with value: 0.8154457694491766.\u001b[0m\n",
            "\u001b[32m[I 2022-12-20 20:54:11,012]\u001b[0m Trial 64 finished with value: 0.7984099943214082 and parameters: {'booster': 'gblinear', 'lambda': 1.1783982841588349e-07, 'alpha': 1.671454914944476e-07, 'subsample': 0.48965011452966434, 'colsample_bytree': 0.8943367818294388}. Best is trial 61 with value: 0.8154457694491766.\u001b[0m\n",
            "\u001b[32m[I 2022-12-20 20:54:11,092]\u001b[0m Trial 65 finished with value: 0.8080636002271436 and parameters: {'booster': 'gblinear', 'lambda': 4.560666815082941e-08, 'alpha': 6.695606119382913e-08, 'subsample': 0.565485282708847, 'colsample_bytree': 0.27430366516416227}. Best is trial 61 with value: 0.8154457694491766.\u001b[0m\n",
            "\u001b[32m[I 2022-12-20 20:54:11,213]\u001b[0m Trial 66 finished with value: 0.7461669505962522 and parameters: {'booster': 'gbtree', 'lambda': 4.104983481889652e-08, 'alpha': 6.517661127307047e-08, 'subsample': 0.3093160374387144, 'colsample_bytree': 0.2537973991094612, 'max_depth': 3, 'min_child_weight': 6, 'eta': 1.0128534504663101e-08, 'gamma': 6.686127721556955e-08, 'grow_policy': 'depthwise'}. Best is trial 61 with value: 0.8154457694491766.\u001b[0m\n",
            "\u001b[32m[I 2022-12-20 20:54:11,294]\u001b[0m Trial 67 finished with value: 0.7955706984667802 and parameters: {'booster': 'gblinear', 'lambda': 1.729970511331098e-08, 'alpha': 1.0460083548944226e-07, 'subsample': 0.5682958941070072, 'colsample_bytree': 0.39033880704420043}. Best is trial 61 with value: 0.8154457694491766.\u001b[0m\n",
            "\u001b[32m[I 2022-12-20 20:54:11,374]\u001b[0m Trial 68 finished with value: 0.8114707552526973 and parameters: {'booster': 'gblinear', 'lambda': 2.9216716654835456e-07, 'alpha': 2.0663082951231227e-07, 'subsample': 0.807987841747558, 'colsample_bytree': 0.9412698844597434}. Best is trial 61 with value: 0.8154457694491766.\u001b[0m\n",
            "\u001b[32m[I 2022-12-20 20:54:11,452]\u001b[0m Trial 69 finished with value: 0.7881885292447472 and parameters: {'booster': 'gblinear', 'lambda': 2.7301112341902914e-07, 'alpha': 3.489937114368389e-07, 'subsample': 0.8173727697588246, 'colsample_bytree': 0.34960335980353413}. Best is trial 61 with value: 0.8154457694491766.\u001b[0m\n",
            "\u001b[32m[I 2022-12-20 20:54:11,539]\u001b[0m Trial 70 finished with value: 0.8052243043725156 and parameters: {'booster': 'gblinear', 'lambda': 1.4136832448995025e-06, 'alpha': 2.309084603930052e-07, 'subsample': 0.9116149264904658, 'colsample_bytree': 0.9459299474488825}. Best is trial 61 with value: 0.8154457694491766.\u001b[0m\n",
            "\u001b[32m[I 2022-12-20 20:54:11,626]\u001b[0m Trial 71 finished with value: 0.8018171493469619 and parameters: {'booster': 'gblinear', 'lambda': 4.3760488587578715e-08, 'alpha': 5.081672976019513e-08, 'subsample': 0.6286127812449299, 'colsample_bytree': 0.973572237955711}. Best is trial 61 with value: 0.8154457694491766.\u001b[0m\n",
            "\u001b[32m[I 2022-12-20 20:54:11,708]\u001b[0m Trial 72 finished with value: 0.8120386144236229 and parameters: {'booster': 'gblinear', 'lambda': 1.6918093791445586e-08, 'alpha': 5.252499239698404e-07, 'subsample': 0.5269886902249334, 'colsample_bytree': 0.9248531079157607}. Best is trial 61 with value: 0.8154457694491766.\u001b[0m\n",
            "\u001b[32m[I 2022-12-20 20:54:11,790]\u001b[0m Trial 73 finished with value: 0.8029528676888131 and parameters: {'booster': 'gblinear', 'lambda': 3.323180301782367e-08, 'alpha': 4.173920434767578e-07, 'subsample': 0.49924671564142253, 'colsample_bytree': 0.927384852393383}. Best is trial 61 with value: 0.8154457694491766.\u001b[0m\n",
            "\u001b[32m[I 2022-12-20 20:54:11,883]\u001b[0m Trial 74 finished with value: 0.8063600227143668 and parameters: {'booster': 'gblinear', 'lambda': 5.136961239865067e-06, 'alpha': 1.6243635986582201e-06, 'subsample': 0.5250412658434517, 'colsample_bytree': 0.8085432298761334}. Best is trial 61 with value: 0.8154457694491766.\u001b[0m\n",
            "\u001b[32m[I 2022-12-20 20:54:11,964]\u001b[0m Trial 75 finished with value: 0.8023850085178875 and parameters: {'booster': 'gblinear', 'lambda': 1.5943685417876967e-07, 'alpha': 8.46951403568702e-07, 'subsample': 0.9481434586005407, 'colsample_bytree': 0.2036035937924025}. Best is trial 61 with value: 0.8154457694491766.\u001b[0m\n",
            "\u001b[32m[I 2022-12-20 20:54:12,041]\u001b[0m Trial 76 finished with value: 0.8029528676888131 and parameters: {'booster': 'gblinear', 'lambda': 5.743211237811273e-08, 'alpha': 0.0013107808326373517, 'subsample': 0.7805552382208294, 'colsample_bytree': 0.9717199093280328}. Best is trial 61 with value: 0.8154457694491766.\u001b[0m\n",
            "\u001b[32m[I 2022-12-20 20:54:12,514]\u001b[0m Trial 77 finished with value: 0.771152754116979 and parameters: {'booster': 'dart', 'lambda': 1.757964820910566e-08, 'alpha': 6.149773555888062e-06, 'subsample': 0.8343411838234958, 'colsample_bytree': 0.935762305515203, 'max_depth': 9, 'min_child_weight': 4, 'eta': 0.0010329754366070628, 'gamma': 8.384477683449971e-06, 'grow_policy': 'lossguide', 'sample_type': 'uniform', 'normalize_type': 'tree', 'rate_drop': 0.004475726635805063, 'skip_drop': 1.1903813663459257e-08}. Best is trial 61 with value: 0.8154457694491766.\u001b[0m\n",
            "\u001b[32m[I 2022-12-20 20:54:12,595]\u001b[0m Trial 78 finished with value: 0.8114707552526973 and parameters: {'booster': 'gblinear', 'lambda': 0.0008127613567222603, 'alpha': 3.107948775427199e-08, 'subsample': 0.7390621443056625, 'colsample_bytree': 0.9994310875378114}. Best is trial 61 with value: 0.8154457694491766.\u001b[0m\n",
            "\u001b[32m[I 2022-12-20 20:54:12,679]\u001b[0m Trial 79 finished with value: 0.7950028392958546 and parameters: {'booster': 'gblinear', 'lambda': 0.0023839647149770512, 'alpha': 2.5680263048516816e-08, 'subsample': 0.7332482482306072, 'colsample_bytree': 0.9979069670719878}. Best is trial 61 with value: 0.8154457694491766.\u001b[0m\n",
            "\u001b[32m[I 2022-12-20 20:54:12,759]\u001b[0m Trial 80 finished with value: 0.8035207268597387 and parameters: {'booster': 'gblinear', 'lambda': 9.740758614771421e-05, 'alpha': 0.01736182479827968, 'subsample': 0.7029918872743739, 'colsample_bytree': 0.9055122052979874}. Best is trial 61 with value: 0.8154457694491766.\u001b[0m\n",
            "\u001b[32m[I 2022-12-20 20:54:12,861]\u001b[0m Trial 81 finished with value: 0.794434980124929 and parameters: {'booster': 'gblinear', 'lambda': 0.0005910464170704651, 'alpha': 9.779975758697744e-08, 'subsample': 0.743209032129782, 'colsample_bytree': 0.9723159902012519}. Best is trial 61 with value: 0.8154457694491766.\u001b[0m\n",
            "\u001b[32m[I 2022-12-20 20:54:12,959]\u001b[0m Trial 82 finished with value: 0.8069278818852924 and parameters: {'booster': 'gblinear', 'lambda': 0.004515499770052347, 'alpha': 1.9252318263578574e-07, 'subsample': 0.6750249711482856, 'colsample_bytree': 0.8503840794980414}. Best is trial 61 with value: 0.8154457694491766.\u001b[0m\n",
            "\u001b[32m[I 2022-12-20 20:54:13,038]\u001b[0m Trial 83 finished with value: 0.7961385576377058 and parameters: {'booster': 'gblinear', 'lambda': 0.023347670813474487, 'alpha': 5.2885926310210204e-08, 'subsample': 0.4820316941383843, 'colsample_bytree': 0.9390223575152402}. Best is trial 61 with value: 0.8154457694491766.\u001b[0m\n",
            "\u001b[32m[I 2022-12-20 20:54:13,127]\u001b[0m Trial 84 finished with value: 0.7932992617830777 and parameters: {'booster': 'gblinear', 'lambda': 0.0007626309922638915, 'alpha': 5.174527676940663e-07, 'subsample': 0.8156453893788652, 'colsample_bytree': 0.2886960763133067}. Best is trial 61 with value: 0.8154457694491766.\u001b[0m\n",
            "\u001b[32m[I 2022-12-20 20:54:13,397]\u001b[0m Trial 85 finished with value: 0.7830777967064169 and parameters: {'booster': 'gbtree', 'lambda': 1.3511828875918086e-08, 'alpha': 2.7504009545988808e-08, 'subsample': 0.7673453931303915, 'colsample_bytree': 0.8729043931034028, 'max_depth': 5, 'min_child_weight': 8, 'eta': 0.9498441846821681, 'gamma': 0.00010528979738063567, 'grow_policy': 'lossguide'}. Best is trial 61 with value: 0.8154457694491766.\u001b[0m\n",
            "\u001b[32m[I 2022-12-20 20:54:13,476]\u001b[0m Trial 86 finished with value: 0.7995457126632595 and parameters: {'booster': 'gblinear', 'lambda': 2.8231613539193854e-08, 'alpha': 1.4713574068402422e-08, 'subsample': 0.6663325114636357, 'colsample_bytree': 0.9779679638491181}. Best is trial 61 with value: 0.8154457694491766.\u001b[0m\n",
            "\u001b[32m[I 2022-12-20 20:54:13,554]\u001b[0m Trial 87 finished with value: 0.8029528676888131 and parameters: {'booster': 'gblinear', 'lambda': 0.0002917944848233083, 'alpha': 4.0868167253252345e-08, 'subsample': 0.5987770321115142, 'colsample_bytree': 0.9188435382483578}. Best is trial 61 with value: 0.8154457694491766.\u001b[0m\n",
            "\u001b[32m[I 2022-12-20 20:54:13,635]\u001b[0m Trial 88 finished with value: 0.8109028960817717 and parameters: {'booster': 'gblinear', 'lambda': 1.8552227431343084e-08, 'alpha': 1.07335124522058e-07, 'subsample': 0.8575693538157869, 'colsample_bytree': 0.9520357777647885}. Best is trial 61 with value: 0.8154457694491766.\u001b[0m\n",
            "\u001b[32m[I 2022-12-20 20:54:13,715]\u001b[0m Trial 89 finished with value: 0.7938671209540034 and parameters: {'booster': 'gblinear', 'lambda': 9.318876565288072e-08, 'alpha': 2.0949059447119505e-07, 'subsample': 0.8666565276698647, 'colsample_bytree': 0.9477244356210801}. Best is trial 61 with value: 0.8154457694491766.\u001b[0m\n",
            "\u001b[32m[I 2022-12-20 20:54:14,106]\u001b[0m Trial 90 finished with value: 0.7989778534923339 and parameters: {'booster': 'dart', 'lambda': 1.5222068763396094e-08, 'alpha': 1.1203504378609448e-07, 'subsample': 0.8086113981081063, 'colsample_bytree': 0.8793715597244615, 'max_depth': 7, 'min_child_weight': 3, 'eta': 8.389641849728701e-07, 'gamma': 1.5171792755788656e-07, 'grow_policy': 'depthwise', 'sample_type': 'uniform', 'normalize_type': 'forest', 'rate_drop': 9.404791656381086e-06, 'skip_drop': 2.2073096368248066e-06}. Best is trial 61 with value: 0.8154457694491766.\u001b[0m\n",
            "\u001b[32m[I 2022-12-20 20:54:14,182]\u001b[0m Trial 91 finished with value: 0.7950028392958546 and parameters: {'booster': 'gblinear', 'lambda': 2.875453432183504e-08, 'alpha': 2.68793063819293e-08, 'subsample': 0.7784286770827885, 'colsample_bytree': 0.9623226764429006}. Best is trial 61 with value: 0.8154457694491766.\u001b[0m\n",
            "\u001b[32m[I 2022-12-20 20:54:14,254]\u001b[0m Trial 92 finished with value: 0.7569562748438388 and parameters: {'booster': 'gblinear', 'lambda': 5.7555908520006893e-08, 'alpha': 0.9688642829431513, 'subsample': 0.5613549146365807, 'colsample_bytree': 0.5253428096091599}. Best is trial 61 with value: 0.8154457694491766.\u001b[0m\n",
            "\u001b[32m[I 2022-12-20 20:54:14,339]\u001b[0m Trial 93 finished with value: 0.8103350369108461 and parameters: {'booster': 'gblinear', 'lambda': 1.0363109174993283e-08, 'alpha': 0.0006773781485414189, 'subsample': 0.8871275418760274, 'colsample_bytree': 0.9982530382740953}. Best is trial 61 with value: 0.8154457694491766.\u001b[0m\n",
            "\u001b[32m[I 2022-12-20 20:54:14,419]\u001b[0m Trial 94 finished with value: 0.8035207268597387 and parameters: {'booster': 'gblinear', 'lambda': 1.0258932500855718e-08, 'alpha': 4.949065138017901e-05, 'subsample': 0.8847996230238983, 'colsample_bytree': 0.9997383323251164}. Best is trial 61 with value: 0.8154457694491766.\u001b[0m\n",
            "\u001b[32m[I 2022-12-20 20:54:14,496]\u001b[0m Trial 95 finished with value: 0.8035207268597387 and parameters: {'booster': 'gblinear', 'lambda': 5.066846949460676e-08, 'alpha': 0.000226224518021669, 'subsample': 0.8534547146863125, 'colsample_bytree': 0.905641249483763}. Best is trial 61 with value: 0.8154457694491766.\u001b[0m\n",
            "\u001b[32m[I 2022-12-20 20:54:14,576]\u001b[0m Trial 96 finished with value: 0.7932992617830777 and parameters: {'booster': 'gblinear', 'lambda': 1.6362696216956292e-05, 'alpha': 0.0012091061561597465, 'subsample': 0.9422365356924657, 'colsample_bytree': 0.4848312446681643}. Best is trial 61 with value: 0.8154457694491766.\u001b[0m\n",
            "\u001b[32m[I 2022-12-20 20:54:14,655]\u001b[0m Trial 97 finished with value: 0.80465644520159 and parameters: {'booster': 'gblinear', 'lambda': 4.273536388568707e-07, 'alpha': 0.0005186382493277412, 'subsample': 0.8890073044319524, 'colsample_bytree': 0.9814715177422391}. Best is trial 61 with value: 0.8154457694491766.\u001b[0m\n",
            "\u001b[32m[I 2022-12-20 20:54:14,740]\u001b[0m Trial 98 finished with value: 0.8131743327654741 and parameters: {'booster': 'gblinear', 'lambda': 1.525715886114194e-07, 'alpha': 0.0006686794615796797, 'subsample': 0.84369091710496, 'colsample_bytree': 0.9236858700874343}. Best is trial 61 with value: 0.8154457694491766.\u001b[0m\n",
            "\u001b[32m[I 2022-12-20 20:54:14,818]\u001b[0m Trial 99 finished with value: 0.7910278250993753 and parameters: {'booster': 'gblinear', 'lambda': 8.909642827454673e-07, 'alpha': 0.0001366146809717892, 'subsample': 0.8348851973048558, 'colsample_bytree': 0.8607523179251276}. Best is trial 61 with value: 0.8154457694491766.\u001b[0m\n"
          ]
        },
        {
          "output_type": "stream",
          "name": "stdout",
          "text": [
            "Number of finished trials:  100\n",
            "Best trial:\n",
            "  Value: 0.8154457694491766\n",
            "  Params: \n",
            "    booster: gblinear\n",
            "    lambda: 2.5870009691911746e-08\n",
            "    alpha: 5.1544193313078525e-08\n",
            "    subsample: 0.5673005945209233\n",
            "    colsample_bytree: 0.894859022789108\n"
          ]
        }
      ]
    },
    {
      "cell_type": "markdown",
      "source": [
        "Fato é que uma taxa de aprendizado menor, conseguiu melhorar o desempenho do modelo XGBoost, considerando `recall` como sendo a única métrica de importância (premissa assumida por este autor).\n",
        "\n",
        "Agora, treina-se o modelo em cima do dataset de treino completo, e verifica-se o desempenho final em cima dos dados de teste, no seu primeiro contato com esse sub-conjunto que havia sido preservado."
      ],
      "metadata": {
        "id": "suLY1W4udUDL"
      }
    },
    {
      "cell_type": "code",
      "source": [
        "# modelo final\n",
        "xgb = XGBClassifier(\n",
        "    booster = 'gblinear',\n",
        "    reg_lambda =  2.5870009691911746e-08,\n",
        "    alpha = 5.1544193313078525e-08,\n",
        "    subsample = 0.5673005945209233,\n",
        "    colsample_bytree = 0.894859022789108\n",
        ")\n",
        "xgb.fit(X_train_rus, y_train_rus)\n",
        "\n",
        "# fazer a previsão\n",
        "X_test = scaler.transform(X_test)\n",
        "y_pred = xgb.predict(X_test)\n",
        "\n",
        "# Classification Report\n",
        "print(classification_report(y_test, y_pred))\n",
        "\n",
        "# imprimir a área sob a curva\n",
        "print(\"AUC: {:.4f}\\n\".format(roc_auc_score(y_test, y_pred)))\n",
        "\n",
        "# plotar matriz de confusão\n",
        "plot_confusion_matrix(y_test, y_pred, normalize=True)\n",
        "plt.show()"
      ],
      "metadata": {
        "colab": {
          "base_uri": "https://localhost:8080/",
          "height": 545
        },
        "id": "cRAHxpVddU1T",
        "outputId": "781c38bb-95cb-41fb-eb39-afa299a900e4"
      },
      "execution_count": null,
      "outputs": [
        {
          "output_type": "stream",
          "name": "stderr",
          "text": [
            "/usr/local/lib/python3.8/dist-packages/sklearn/base.py:450: UserWarning: X does not have valid feature names, but StandardScaler was fitted with feature names\n",
            "  warnings.warn(\n"
          ]
        },
        {
          "output_type": "stream",
          "name": "stdout",
          "text": [
            "              precision    recall  f1-score   support\n",
            "\n",
            "           0       0.93      0.63      0.75      1282\n",
            "           1       0.47      0.87      0.61       479\n",
            "\n",
            "    accuracy                           0.70      1761\n",
            "   macro avg       0.70      0.75      0.68      1761\n",
            "weighted avg       0.80      0.70      0.71      1761\n",
            "\n",
            "AUC: 0.7517\n",
            "\n"
          ]
        },
        {
          "output_type": "display_data",
          "data": {
            "text/plain": [
              "<Figure size 432x288 with 2 Axes>"
            ],
            "image/png": "[encoded data removed]"
          },
          "metadata": {
            "needs_background": "light"
          }
        }
      ]
    },
    {
      "cell_type": "markdown",
      "source": [
        "## Conclusões\n",
        "\n",
        "Os dados de testes não haviam sido passados para o modelo ainda. No entanto, ele manteve um desempenho próximo àquele estimado anteriormente, graças a um bom trabalho de otimização nos parâmetros.\n",
        "\n",
        "Ainda há espaço para se tentar outras técnicas de balanceamento de dados e também técnicas de machine learning como feature engineering e feature selection.\n",
        "\n",
        "Fica o convite a você, aluno DSNP, melhorar o nosso modelo. Também convido a expandir a análise exploratória, enriquecendo mais ainda o trabalho."
      ],
      "metadata": {
        "id": "yBKHN5ZUdlMp"
      }
    },
    {
      "cell_type": "code",
      "metadata": {
        "id": "ThH0bud3XImv"
      },
      "source": [],
      "execution_count": null,
      "outputs": []
    }
  ]
}