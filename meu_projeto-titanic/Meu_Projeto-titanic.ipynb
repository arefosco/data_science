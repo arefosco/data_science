{
 "cells": [
  {
   "cell_type": "markdown",
   "id": "d8012d9f",
   "metadata": {},
   "source": [
    "# Titanic: Machine Learning from Disaster\n",
    "\n",
    "Para ver o artigo relacionado a este *notebook*, [CLIQUE AQUI](http://sigmoidal.ai/data-science-titanic-python-1/)\n",
    "\n",
    "---\n",
    "\n",
    "O desafio do Titanic é uma das competições mais famosas, e é promovida pelo site [kaggle.com](http://kaggle.com). Tamanha popularidade desta competição fez com que ela fosse considerada como sendo um ***Hello, World!*** para o universo fantástico do Data Science (Ciência de Dados).\n",
    "\n",
    "Com certeza, a maioria de vocês conhece a história por trás do naufrágio deste que seria o *navio mais moderno do mundo* para a época. Apesar da tecnologia disponível, após colidir com um iceberg em 15 de abril de 1912, **seu naufrágio matou 1502 pessoas de um total de 2224 passageiros.**\n",
    "\n",
    "![Data Science, Python e Titanic](img/titanic.jpeg)\n",
    "\n",
    "Como principal fator contribuinte, logo se descobriu que não havia botes salva-vidas suficientes para toda a tripulação e passageiros. \n",
    "\n",
    "Obviamente, aqueles que sobreviveram à tragédia contaram com muita sorte, mas será que alguns grupos de passageiros não tiveram \"mais sorte\" que outros grupos? Será que crianças e mulheres realmente tiveram mais chances de sobreviver? Será que o Jack teve menos chances de escapar do seu destino trágico que a Rose, só pelo fato de ele ter embarcado na 3ª Classe?\n",
    "\n",
    "Com os dados **reais** disponibilizados, agora você pode fazer uma análise exploratória, testar suas hipóteses e até mesmo construir um modelo preditivo (que tal descobrir quais seriam suas chances de sobrevivência na 1ª Classe se você tivesse viajado com sua esposa e filho?!)\n",
    "\n",
    "> **Resumidamente, o objetivo deste desafio é utilizar os dados disponíveis para medir a chance de sobrevivência dos passageiros do Titanic.** \n",
    "\n",
    "## Sobre este notebook\n",
    "\n",
    "Este notebook é parte de uma série de artigos do meu blog, [sigmoidal.ai](http://sigmoidal.ai):\n",
    "\n",
    "* [PARTE I](http://sigmoidal.ai/data-science-titanic-python-1/)\n",
    "* [PARTE II](http://sigmoidal.ai/data-science-titanic-python-2/)\n",
    "\n",
    "A ideia é introduzir o assunto de **DATA SCIENCE** para iniciantes na área, por isso tentei não me aprofundar em nenhum conceito ou análise, de maneira que seja possível reproduzir (e entender) todos passos usados.\n",
    "\n",
    "\n",
    "## Checklist\n",
    "\n",
    "1. Definição do Problema\n",
    "2. Obtenção dos Dados\n",
    "3. Exploração dos Dados\n",
    "4. Preparação dos Dados\n",
    "5. Construção do Modelo\n",
    "6. Avaliação"
   ]
  },
  {
   "cell_type": "markdown",
   "id": "2923d28c",
   "metadata": {},
   "source": [
    "## 1. Definição do Problema\n",
    "\n",
    "A construção do Titanic levou cerca de 2 anos e custou 7,5 milhões de dólares (valores da época). Com 269 metros de comprimento, 28 metros de largura e 53 metros de altura, operava com uma tripulação de 892 pessoas e poderia levar até 2435 passageiros (espalhados pelas três classes disponíveis).\n",
    "\n",
    "Pensado para ser o mais seguro e luxuoso navio da época, foi lançado ao mar em 1911, ganhando fama de ser \"inafundável\".\n",
    "\n",
    "A descrição completa da competição, assim como o conjunto de dados, está disponível na página do Kaggle [Titanic: Machine Learning from Disaster](https://www.kaggle.com/c/titanic).\n",
    "\n",
    "O naufrágio do Titanic teve como fatores contribuintes causas naturais (como o clima) e causas humanas (negligência e excesso de confiança). Independente das causas, o fato é que seu naufrágio matou 1502 pessoas de um total de 2224 passageiros.\n",
    "\n",
    "Embora aqueles que escaparam com vida tiveram sua boa dose de sorte, alguns grupos de pessoas eram mais propensos a escaparem da morte do que outros. Por exemplo, mulheres, crianças e passageiros da 1ª Classe. Assim, nota-se que existe algum padrão que pode ser extraído dos dados brutos.\n",
    "\n",
    "### Objetivo\n",
    "\n",
    "Espera-se que você consiga fazer uma **análise sobre quais variáveis tiveram maior influência na probabilidade de sobrevivência** (ou seja, que tipo de pessoa teve mais chance de escapar com vida).\n",
    "\n",
    "Após analisar os dados, espera-se também que você seja capaz de **construir um modelo que dê a previsão de sobrevivência** para um passageiro qualquer que seja fornecido como *input*.\n",
    "\n",
    "\n",
    "### Métrica de Desempenho\n",
    "\n",
    "O *score* é calculado em relação ao número de previsões corretas que seu modelo fez. Ou seja, é considerada apenas a **acurácia** do modelo.\n"
   ]
  },
  {
   "cell_type": "markdown",
   "id": "9e948151",
   "metadata": {},
   "source": [
    "## 2. Obtenção dos Dados\n",
    "\n",
    "[Os dados disponibilizados pelo Kaggle](https://www.kaggle.com/c/titanic/data) foram divididos em dois grupos:\n",
    "\n",
    "* Dataset de treino (```train.csv```)\n",
    "    * Deve ser usado para construir o modelo de Machine Learning. Neste conjunto de dados, é informado se o passageiro sobreviveu ou não. \n",
    "    * Composto por diversas *features* como gênero do passageiro e classe do embarque.\n",
    "* Dataset de Teste (```test.csv```)\n",
    "    * Deve ser usado como dados que nunca forma vistos pelo modelo. Neste conjunto de dados, não é informado se o passageiro sobreviveu ou não.\n",
    "    \n",
    "Também é disponibilizado um modelo (gabarito) de como as previsões devem ser enviadas para a plataforma do Kaggle (```gender_submission```).\n",
    "\n",
    "Para conseguir baixar os arquivos, é precisar criar um login no Kaggle antes. Para facilitar, os arquivos estão junto com este notebook (pasta ```./data/...```"
   ]
  },
  {
   "cell_type": "code",
   "execution_count": 93,
   "id": "b2840c62",
   "metadata": {},
   "outputs": [
    {
     "name": "stdout",
     "output_type": "stream",
     "text": [
      "Requirement already satisfied: opendatasets in c:\\users\\andre\\anaconda3\\lib\\site-packages (0.1.22)\n",
      "Requirement already satisfied: click in c:\\users\\andre\\anaconda3\\lib\\site-packages (from opendatasets) (8.0.4)\n",
      "Requirement already satisfied: tqdm in c:\\users\\andre\\anaconda3\\lib\\site-packages (from opendatasets) (4.64.0)\n",
      "Requirement already satisfied: kaggle in c:\\users\\andre\\anaconda3\\lib\\site-packages (from opendatasets) (1.5.12)\n",
      "Requirement already satisfied: colorama in c:\\users\\andre\\anaconda3\\lib\\site-packages (from click->opendatasets) (0.4.4)\n",
      "Requirement already satisfied: python-slugify in c:\\users\\andre\\anaconda3\\lib\\site-packages (from kaggle->opendatasets) (5.0.2)\n",
      "Requirement already satisfied: six>=1.10 in c:\\users\\andre\\anaconda3\\lib\\site-packages (from kaggle->opendatasets) (1.16.0)\n",
      "Requirement already satisfied: requests in c:\\users\\andre\\anaconda3\\lib\\site-packages (from kaggle->opendatasets) (2.27.1)\n",
      "Requirement already satisfied: python-dateutil in c:\\users\\andre\\anaconda3\\lib\\site-packages (from kaggle->opendatasets) (2.8.2)\n",
      "Requirement already satisfied: certifi in c:\\users\\andre\\anaconda3\\lib\\site-packages (from kaggle->opendatasets) (2021.10.8)\n",
      "Requirement already satisfied: urllib3 in c:\\users\\andre\\anaconda3\\lib\\site-packages (from kaggle->opendatasets) (1.26.9)\n",
      "Requirement already satisfied: text-unidecode>=1.3 in c:\\users\\andre\\anaconda3\\lib\\site-packages (from python-slugify->kaggle->opendatasets) (1.3)\n",
      "Requirement already satisfied: charset-normalizer~=2.0.0 in c:\\users\\andre\\anaconda3\\lib\\site-packages (from requests->kaggle->opendatasets) (2.0.4)\n",
      "Requirement already satisfied: idna<4,>=2.5 in c:\\users\\andre\\anaconda3\\lib\\site-packages (from requests->kaggle->opendatasets) (3.3)\n",
      "Note: you may need to restart the kernel to use updated packages.\n"
     ]
    }
   ],
   "source": [
    "pip install opendatasets"
   ]
  },
  {
   "cell_type": "code",
   "execution_count": 94,
   "id": "2a11bff8",
   "metadata": {},
   "outputs": [
    {
     "name": "stdout",
     "output_type": "stream",
     "text": [
      "Requirement already satisfied: kaggle in c:\\users\\andre\\anaconda3\\lib\\site-packages (1.5.12)\n",
      "Requirement already satisfied: python-dateutil in c:\\users\\andre\\anaconda3\\lib\\site-packages (from kaggle) (2.8.2)\n",
      "Requirement already satisfied: certifi in c:\\users\\andre\\anaconda3\\lib\\site-packages (from kaggle) (2021.10.8)\n",
      "Requirement already satisfied: urllib3 in c:\\users\\andre\\anaconda3\\lib\\site-packages (from kaggle) (1.26.9)\n",
      "Requirement already satisfied: tqdm in c:\\users\\andre\\anaconda3\\lib\\site-packages (from kaggle) (4.64.0)\n",
      "Requirement already satisfied: requests in c:\\users\\andre\\anaconda3\\lib\\site-packages (from kaggle) (2.27.1)\n",
      "Requirement already satisfied: python-slugify in c:\\users\\andre\\anaconda3\\lib\\site-packages (from kaggle) (5.0.2)\n",
      "Requirement already satisfied: six>=1.10 in c:\\users\\andre\\anaconda3\\lib\\site-packages (from kaggle) (1.16.0)\n",
      "Requirement already satisfied: text-unidecode>=1.3 in c:\\users\\andre\\anaconda3\\lib\\site-packages (from python-slugify->kaggle) (1.3)\n",
      "Requirement already satisfied: idna<4,>=2.5 in c:\\users\\andre\\anaconda3\\lib\\site-packages (from requests->kaggle) (3.3)\n",
      "Requirement already satisfied: charset-normalizer~=2.0.0 in c:\\users\\andre\\anaconda3\\lib\\site-packages (from requests->kaggle) (2.0.4)\n",
      "Requirement already satisfied: colorama in c:\\users\\andre\\anaconda3\\lib\\site-packages (from tqdm->kaggle) (0.4.4)\n",
      "Note: you may need to restart the kernel to use updated packages.\n"
     ]
    }
   ],
   "source": [
    "pip install kaggle"
   ]
  },
  {
   "cell_type": "code",
   "execution_count": 95,
   "id": "a77ac0ca",
   "metadata": {},
   "outputs": [],
   "source": [
    "from kaggle.api.kaggle_api_extended import KaggleApi\n",
    "api = KaggleApi()\n",
    "api.authenticate()"
   ]
  },
  {
   "cell_type": "code",
   "execution_count": 96,
   "id": "b5710d68",
   "metadata": {},
   "outputs": [
    {
     "name": "stdout",
     "output_type": "stream",
     "text": [
      "titanic.zip: Skipping, found more recently modified local copy (use --force to force download)\n"
     ]
    }
   ],
   "source": [
    "!kaggle competitions download -c titanic"
   ]
  },
  {
   "cell_type": "code",
   "execution_count": 97,
   "id": "dd1233e8",
   "metadata": {},
   "outputs": [],
   "source": [
    "import zipfile\n",
    "with zipfile.ZipFile(\"titanic.zip\", 'r') as zip_ref:\n",
    "    zip_ref.extractall()"
   ]
  },
  {
   "cell_type": "code",
   "execution_count": 98,
   "id": "0ac0f33d",
   "metadata": {},
   "outputs": [
    {
     "name": "stdout",
     "output_type": "stream",
     "text": [
      "Listagem de caminhos de pasta\n",
      "O n£mero de s‚rie do volume ‚ DCFC-F5F2\n",
      "C:.\n",
      "ÀÄÄÄ.ipynb_checkpoints\n"
     ]
    }
   ],
   "source": [
    "# listar os arquivos no diretório\n",
    "!tree"
   ]
  },
  {
   "cell_type": "code",
   "execution_count": 99,
   "id": "bd1f1728",
   "metadata": {},
   "outputs": [],
   "source": [
    "# importar os pacotes necessários\n",
    "import pandas as pd\n",
    "import numpy as np\n",
    "import matplotlib.pyplot as plt\n",
    "import seaborn as sns\n",
    "import opendatasets as od\n",
    "\n",
    "# permitir visualizar todas as colunas\n",
    "pd.options.display.max_columns = None\n",
    "\n",
    "# renderizar os gráficos diretamente no notebook\n",
    "# %matplotlib inline"
   ]
  },
  {
   "cell_type": "code",
   "execution_count": 100,
   "id": "224a1ccb",
   "metadata": {},
   "outputs": [],
   "source": [
    "train = pd.read_csv('train.csv')\n",
    "test = pd.read_csv('test.csv')"
   ]
  },
  {
   "cell_type": "markdown",
   "id": "7c0fe3e6",
   "metadata": {},
   "source": [
    "**Q1.** Quantas variáveis (colunas) e quantas entradas (linhas) possui o arquivo?"
   ]
  },
  {
   "cell_type": "code",
   "execution_count": 101,
   "id": "99427fc9",
   "metadata": {},
   "outputs": [
    {
     "name": "stdout",
     "output_type": "stream",
     "text": [
      "Variáveis:\t12\n",
      "Entradas:\t891\n"
     ]
    }
   ],
   "source": [
    "# verificando as dimensões do DataFrame\n",
    "print(\"Variáveis:\\t{}\\nEntradas:\\t{}\".format(train.shape[1], train.shape[0]))"
   ]
  },
  {
   "cell_type": "markdown",
   "id": "861150d9",
   "metadata": {},
   "source": [
    "## 3. Exploração dos Dados\n",
    "\n",
    "Em uma análise inicial, serão estudadas cada variável. É importante verificar seu nome, tipo, porcentagem de valores faltantes, presença de outliers e tipo de distribuição.\n",
    "\n",
    "Como se trata de um Aprendizado Supervisionado (*Supervised Learning*), a variável ```Survived``` é definida como sendo a nossa variável alvo (*target*)."
   ]
  },
  {
   "cell_type": "markdown",
   "id": "932ec7f7",
   "metadata": {},
   "source": [
    "### Dicionário de Dados\n",
    "\n",
    "* **PassengerId:** Número de identificação do passageiro\n",
    "* **Survived:** Informa se o passageiro sobreviveu ao desastre\n",
    "    * 0 = Não\n",
    "    * 1 = Sim\n",
    "* **Pclass:** Classe do bilhete\n",
    "    * 1 = 1ª Classe\n",
    "    * 2 = 2ª Classe\n",
    "    * 3 = 3ª Classe\n",
    "* **Name:** Nome do passageiro\n",
    "* **Sex:** Sexo do passageiro\n",
    "* **Age:** Idade do passageiro\n",
    "* **SibSp:** Quantidade de cônjuges e irmãos a bordo\n",
    "* **Parch:** Quantidade de pais e filhos a bordo\n",
    "* **Ticket:** Número da passagem\n",
    "* **Fare:** Preço da Passagem\n",
    "* **Cabin:** Número da cabine do passageiro\n",
    "* **Embarked:** Porto no qual o passageiro embarcou\n",
    "    * C = Cherbourg\n",
    "    * Q = Queenstown\n",
    "    * S = Southampton"
   ]
  },
  {
   "cell_type": "markdown",
   "id": "0401eb9d",
   "metadata": {},
   "source": [
    "**Q1. Quais os tipos de cada variável?**\n",
    "\n",
    "* Variáveis Numéricas\n",
    "    * Discretas\n",
    "        * Pclass\n",
    "        * SibSp\n",
    "        * Parch\n",
    "    * Contínuas\n",
    "        * Age\n",
    "        * Fare\n",
    "    * Alvo\n",
    "        * Survived\n",
    "    * Chave Primária\n",
    "        * PassengerId\n",
    "* Variáveis Categóricas\n",
    "    * Name\n",
    "    * Sex\n",
    "    * Ticket\n",
    "    * Cabin\n",
    "    * Embarked"
   ]
  },
  {
   "cell_type": "code",
   "execution_count": 102,
   "id": "60bc224e",
   "metadata": {},
   "outputs": [
    {
     "data": {
      "text/plain": [
       "PassengerId      int64\n",
       "Survived         int64\n",
       "Pclass           int64\n",
       "Name            object\n",
       "Sex             object\n",
       "Age            float64\n",
       "SibSp            int64\n",
       "Parch            int64\n",
       "Ticket          object\n",
       "Fare           float64\n",
       "Cabin           object\n",
       "Embarked        object\n",
       "dtype: object"
      ]
     },
     "metadata": {},
     "output_type": "display_data"
    },
    {
     "data": {
      "text/html": [
       "<div>\n",
       "<style scoped>\n",
       "    .dataframe tbody tr th:only-of-type {\n",
       "        vertical-align: middle;\n",
       "    }\n",
       "\n",
       "    .dataframe tbody tr th {\n",
       "        vertical-align: top;\n",
       "    }\n",
       "\n",
       "    .dataframe thead th {\n",
       "        text-align: right;\n",
       "    }\n",
       "</style>\n",
       "<table border=\"1\" class=\"dataframe\">\n",
       "  <thead>\n",
       "    <tr style=\"text-align: right;\">\n",
       "      <th></th>\n",
       "      <th>PassengerId</th>\n",
       "      <th>Survived</th>\n",
       "      <th>Pclass</th>\n",
       "      <th>Name</th>\n",
       "      <th>Sex</th>\n",
       "      <th>Age</th>\n",
       "      <th>SibSp</th>\n",
       "      <th>Parch</th>\n",
       "      <th>Ticket</th>\n",
       "      <th>Fare</th>\n",
       "      <th>Cabin</th>\n",
       "      <th>Embarked</th>\n",
       "    </tr>\n",
       "  </thead>\n",
       "  <tbody>\n",
       "    <tr>\n",
       "      <th>0</th>\n",
       "      <td>1</td>\n",
       "      <td>0</td>\n",
       "      <td>3</td>\n",
       "      <td>Braund, Mr. Owen Harris</td>\n",
       "      <td>male</td>\n",
       "      <td>22.0</td>\n",
       "      <td>1</td>\n",
       "      <td>0</td>\n",
       "      <td>A/5 21171</td>\n",
       "      <td>7.2500</td>\n",
       "      <td>NaN</td>\n",
       "      <td>S</td>\n",
       "    </tr>\n",
       "    <tr>\n",
       "      <th>1</th>\n",
       "      <td>2</td>\n",
       "      <td>1</td>\n",
       "      <td>1</td>\n",
       "      <td>Cumings, Mrs. John Bradley (Florence Briggs Th...</td>\n",
       "      <td>female</td>\n",
       "      <td>38.0</td>\n",
       "      <td>1</td>\n",
       "      <td>0</td>\n",
       "      <td>PC 17599</td>\n",
       "      <td>71.2833</td>\n",
       "      <td>C85</td>\n",
       "      <td>C</td>\n",
       "    </tr>\n",
       "    <tr>\n",
       "      <th>2</th>\n",
       "      <td>3</td>\n",
       "      <td>1</td>\n",
       "      <td>3</td>\n",
       "      <td>Heikkinen, Miss. Laina</td>\n",
       "      <td>female</td>\n",
       "      <td>26.0</td>\n",
       "      <td>0</td>\n",
       "      <td>0</td>\n",
       "      <td>STON/O2. 3101282</td>\n",
       "      <td>7.9250</td>\n",
       "      <td>NaN</td>\n",
       "      <td>S</td>\n",
       "    </tr>\n",
       "    <tr>\n",
       "      <th>3</th>\n",
       "      <td>4</td>\n",
       "      <td>1</td>\n",
       "      <td>1</td>\n",
       "      <td>Futrelle, Mrs. Jacques Heath (Lily May Peel)</td>\n",
       "      <td>female</td>\n",
       "      <td>35.0</td>\n",
       "      <td>1</td>\n",
       "      <td>0</td>\n",
       "      <td>113803</td>\n",
       "      <td>53.1000</td>\n",
       "      <td>C123</td>\n",
       "      <td>S</td>\n",
       "    </tr>\n",
       "    <tr>\n",
       "      <th>4</th>\n",
       "      <td>5</td>\n",
       "      <td>0</td>\n",
       "      <td>3</td>\n",
       "      <td>Allen, Mr. William Henry</td>\n",
       "      <td>male</td>\n",
       "      <td>35.0</td>\n",
       "      <td>0</td>\n",
       "      <td>0</td>\n",
       "      <td>373450</td>\n",
       "      <td>8.0500</td>\n",
       "      <td>NaN</td>\n",
       "      <td>S</td>\n",
       "    </tr>\n",
       "  </tbody>\n",
       "</table>\n",
       "</div>"
      ],
      "text/plain": [
       "   PassengerId  Survived  Pclass  \\\n",
       "0            1         0       3   \n",
       "1            2         1       1   \n",
       "2            3         1       3   \n",
       "3            4         1       1   \n",
       "4            5         0       3   \n",
       "\n",
       "                                                Name     Sex   Age  SibSp  \\\n",
       "0                            Braund, Mr. Owen Harris    male  22.0      1   \n",
       "1  Cumings, Mrs. John Bradley (Florence Briggs Th...  female  38.0      1   \n",
       "2                             Heikkinen, Miss. Laina  female  26.0      0   \n",
       "3       Futrelle, Mrs. Jacques Heath (Lily May Peel)  female  35.0      1   \n",
       "4                           Allen, Mr. William Henry    male  35.0      0   \n",
       "\n",
       "   Parch            Ticket     Fare Cabin Embarked  \n",
       "0      0         A/5 21171   7.2500   NaN        S  \n",
       "1      0          PC 17599  71.2833   C85        C  \n",
       "2      0  STON/O2. 3101282   7.9250   NaN        S  \n",
       "3      0            113803  53.1000  C123        S  \n",
       "4      0            373450   8.0500   NaN        S  "
      ]
     },
     "metadata": {},
     "output_type": "display_data"
    }
   ],
   "source": [
    "# indentificar o tipo de cada variável\n",
    "display(train.dtypes)\n",
    "\n",
    "# ver as 5 primeiras entradas do conjunto de treino\n",
    "display(train.head())"
   ]
  },
  {
   "cell_type": "markdown",
   "id": "1956815d",
   "metadata": {},
   "source": [
    "**Q2. Qual a porcentagem de valores faltantes?**\n",
    "\n",
    "A informação sobre a **Cabin** é a que possui o maior número de informações faltantes, com mais de 77%. Após, a coluna **Age** não possui valor em quase 20% dos passageiros. Por fim, a coluna informando o Porto de embarque (**Embarked**) possui apenas 2% de informações faltantes."
   ]
  },
  {
   "cell_type": "code",
   "execution_count": 103,
   "id": "fd1041f0",
   "metadata": {},
   "outputs": [
    {
     "data": {
      "text/plain": [
       "Cabin          0.771044\n",
       "Age            0.198653\n",
       "Embarked       0.002245\n",
       "PassengerId    0.000000\n",
       "Survived       0.000000\n",
       "Pclass         0.000000\n",
       "Name           0.000000\n",
       "Sex            0.000000\n",
       "SibSp          0.000000\n",
       "Parch          0.000000\n",
       "Ticket         0.000000\n",
       "Fare           0.000000\n",
       "dtype: float64"
      ]
     },
     "execution_count": 103,
     "metadata": {},
     "output_type": "execute_result"
    }
   ],
   "source": [
    "# ver a porcentagem de valores faltantes\n",
    "(train.isnull().sum() / train.shape[0]).sort_values(ascending = False)"
   ]
  },
  {
   "cell_type": "markdown",
   "id": "8baa8c24",
   "metadata": {},
   "source": [
    "**Q3. Como é a distribuição estatística dos dados?**"
   ]
  },
  {
   "cell_type": "code",
   "execution_count": 104,
   "id": "96366538",
   "metadata": {},
   "outputs": [
    {
     "data": {
      "text/html": [
       "<div>\n",
       "<style scoped>\n",
       "    .dataframe tbody tr th:only-of-type {\n",
       "        vertical-align: middle;\n",
       "    }\n",
       "\n",
       "    .dataframe tbody tr th {\n",
       "        vertical-align: top;\n",
       "    }\n",
       "\n",
       "    .dataframe thead th {\n",
       "        text-align: right;\n",
       "    }\n",
       "</style>\n",
       "<table border=\"1\" class=\"dataframe\">\n",
       "  <thead>\n",
       "    <tr style=\"text-align: right;\">\n",
       "      <th></th>\n",
       "      <th>PassengerId</th>\n",
       "      <th>Survived</th>\n",
       "      <th>Pclass</th>\n",
       "      <th>Age</th>\n",
       "      <th>SibSp</th>\n",
       "      <th>Parch</th>\n",
       "      <th>Fare</th>\n",
       "    </tr>\n",
       "  </thead>\n",
       "  <tbody>\n",
       "    <tr>\n",
       "      <th>count</th>\n",
       "      <td>891.000000</td>\n",
       "      <td>891.000000</td>\n",
       "      <td>891.000000</td>\n",
       "      <td>714.000000</td>\n",
       "      <td>891.000000</td>\n",
       "      <td>891.000000</td>\n",
       "      <td>891.000000</td>\n",
       "    </tr>\n",
       "    <tr>\n",
       "      <th>mean</th>\n",
       "      <td>446.000000</td>\n",
       "      <td>0.383838</td>\n",
       "      <td>2.308642</td>\n",
       "      <td>29.699118</td>\n",
       "      <td>0.523008</td>\n",
       "      <td>0.381594</td>\n",
       "      <td>32.204208</td>\n",
       "    </tr>\n",
       "    <tr>\n",
       "      <th>std</th>\n",
       "      <td>257.353842</td>\n",
       "      <td>0.486592</td>\n",
       "      <td>0.836071</td>\n",
       "      <td>14.526497</td>\n",
       "      <td>1.102743</td>\n",
       "      <td>0.806057</td>\n",
       "      <td>49.693429</td>\n",
       "    </tr>\n",
       "    <tr>\n",
       "      <th>min</th>\n",
       "      <td>1.000000</td>\n",
       "      <td>0.000000</td>\n",
       "      <td>1.000000</td>\n",
       "      <td>0.420000</td>\n",
       "      <td>0.000000</td>\n",
       "      <td>0.000000</td>\n",
       "      <td>0.000000</td>\n",
       "    </tr>\n",
       "    <tr>\n",
       "      <th>25%</th>\n",
       "      <td>223.500000</td>\n",
       "      <td>0.000000</td>\n",
       "      <td>2.000000</td>\n",
       "      <td>20.125000</td>\n",
       "      <td>0.000000</td>\n",
       "      <td>0.000000</td>\n",
       "      <td>7.910400</td>\n",
       "    </tr>\n",
       "    <tr>\n",
       "      <th>50%</th>\n",
       "      <td>446.000000</td>\n",
       "      <td>0.000000</td>\n",
       "      <td>3.000000</td>\n",
       "      <td>28.000000</td>\n",
       "      <td>0.000000</td>\n",
       "      <td>0.000000</td>\n",
       "      <td>14.454200</td>\n",
       "    </tr>\n",
       "    <tr>\n",
       "      <th>75%</th>\n",
       "      <td>668.500000</td>\n",
       "      <td>1.000000</td>\n",
       "      <td>3.000000</td>\n",
       "      <td>38.000000</td>\n",
       "      <td>1.000000</td>\n",
       "      <td>0.000000</td>\n",
       "      <td>31.000000</td>\n",
       "    </tr>\n",
       "    <tr>\n",
       "      <th>max</th>\n",
       "      <td>891.000000</td>\n",
       "      <td>1.000000</td>\n",
       "      <td>3.000000</td>\n",
       "      <td>80.000000</td>\n",
       "      <td>8.000000</td>\n",
       "      <td>6.000000</td>\n",
       "      <td>512.329200</td>\n",
       "    </tr>\n",
       "  </tbody>\n",
       "</table>\n",
       "</div>"
      ],
      "text/plain": [
       "       PassengerId    Survived      Pclass         Age       SibSp  \\\n",
       "count   891.000000  891.000000  891.000000  714.000000  891.000000   \n",
       "mean    446.000000    0.383838    2.308642   29.699118    0.523008   \n",
       "std     257.353842    0.486592    0.836071   14.526497    1.102743   \n",
       "min       1.000000    0.000000    1.000000    0.420000    0.000000   \n",
       "25%     223.500000    0.000000    2.000000   20.125000    0.000000   \n",
       "50%     446.000000    0.000000    3.000000   28.000000    0.000000   \n",
       "75%     668.500000    1.000000    3.000000   38.000000    1.000000   \n",
       "max     891.000000    1.000000    3.000000   80.000000    8.000000   \n",
       "\n",
       "            Parch        Fare  \n",
       "count  891.000000  891.000000  \n",
       "mean     0.381594   32.204208  \n",
       "std      0.806057   49.693429  \n",
       "min      0.000000    0.000000  \n",
       "25%      0.000000    7.910400  \n",
       "50%      0.000000   14.454200  \n",
       "75%      0.000000   31.000000  \n",
       "max      6.000000  512.329200  "
      ]
     },
     "execution_count": 104,
     "metadata": {},
     "output_type": "execute_result"
    }
   ],
   "source": [
    "train.describe()"
   ]
  },
  {
   "cell_type": "code",
   "execution_count": 105,
   "id": "483ba233",
   "metadata": {},
   "outputs": [
    {
     "data": {
      "image/png": "[encoded data removed]",
      "text/plain": [
       "<Figure size 720x576 with 9 Axes>"
      ]
     },
     "metadata": {
      "needs_background": "light"
     },
     "output_type": "display_data"
    }
   ],
   "source": [
    "# ver histograma das variáveis numéricas\n",
    "train.hist(figsize=(10,8));"
   ]
  },
  {
   "cell_type": "code",
   "execution_count": 106,
   "id": "e2877821",
   "metadata": {},
   "outputs": [
    {
     "data": {
      "text/html": [
       "<div>\n",
       "<style scoped>\n",
       "    .dataframe tbody tr th:only-of-type {\n",
       "        vertical-align: middle;\n",
       "    }\n",
       "\n",
       "    .dataframe tbody tr th {\n",
       "        vertical-align: top;\n",
       "    }\n",
       "\n",
       "    .dataframe thead th {\n",
       "        text-align: right;\n",
       "    }\n",
       "</style>\n",
       "<table border=\"1\" class=\"dataframe\">\n",
       "  <thead>\n",
       "    <tr style=\"text-align: right;\">\n",
       "      <th></th>\n",
       "      <th>Survived</th>\n",
       "    </tr>\n",
       "    <tr>\n",
       "      <th>Sex</th>\n",
       "      <th></th>\n",
       "    </tr>\n",
       "  </thead>\n",
       "  <tbody>\n",
       "    <tr>\n",
       "      <th>female</th>\n",
       "      <td>0.742038</td>\n",
       "    </tr>\n",
       "    <tr>\n",
       "      <th>male</th>\n",
       "      <td>0.188908</td>\n",
       "    </tr>\n",
       "  </tbody>\n",
       "</table>\n",
       "</div>"
      ],
      "text/plain": [
       "        Survived\n",
       "Sex             \n",
       "female  0.742038\n",
       "male    0.188908"
      ]
     },
     "execution_count": 106,
     "metadata": {},
     "output_type": "execute_result"
    }
   ],
   "source": [
    "# analisar a probabilidade de sobrevivência pelo Sexo\n",
    "train[['Sex', 'Survived']].groupby(['Sex']).mean()"
   ]
  },
  {
   "cell_type": "code",
   "execution_count": 107,
   "id": "9f339dd3",
   "metadata": {},
   "outputs": [
    {
     "data": {
      "text/plain": [
       "<AxesSubplot:xlabel='Embarked', ylabel='Survived'>"
      ]
     },
     "execution_count": 107,
     "metadata": {},
     "output_type": "execute_result"
    },
    {
     "data": {
      "image/png": "[encoded data removed]",
      "text/plain": [
       "<Figure size 864x288 with 3 Axes>"
      ]
     },
     "metadata": {
      "needs_background": "light"
     },
     "output_type": "display_data"
    }
   ],
   "source": [
    "# plotar os gráficos para Survived vs. Sex, Pclass e Embarked\n",
    "fig, (axis1, axis2, axis3) = plt.subplots(1,3, figsize=(12,4))\n",
    "\n",
    "sns.barplot(x='Sex', y='Survived', data=train, ax=axis1)\n",
    "sns.barplot(x='Pclass', y='Survived', data=train, ax=axis2)\n",
    "sns.barplot(x='Embarked', y='Survived', data=train, ax=axis3)"
   ]
  },
  {
   "cell_type": "code",
   "execution_count": 108,
   "id": "aba9a9d2",
   "metadata": {},
   "outputs": [
    {
     "name": "stderr",
     "output_type": "stream",
     "text": [
      "C:\\Users\\ANDRE\\anaconda3\\lib\\site-packages\\seaborn\\distributions.py:2619: FutureWarning: `distplot` is a deprecated function and will be removed in a future version. Please adapt your code to use either `displot` (a figure-level function with similar flexibility) or `histplot` (an axes-level function for histograms).\n",
      "  warnings.warn(msg, FutureWarning)\n",
      "C:\\Users\\ANDRE\\anaconda3\\lib\\site-packages\\seaborn\\distributions.py:2619: FutureWarning: `distplot` is a deprecated function and will be removed in a future version. Please adapt your code to use either `displot` (a figure-level function with similar flexibility) or `histplot` (an axes-level function for histograms).\n",
      "  warnings.warn(msg, FutureWarning)\n"
     ]
    },
    {
     "data": {
      "text/plain": [
       "<seaborn.axisgrid.FacetGrid at 0x225f5556bb0>"
      ]
     },
     "execution_count": 108,
     "metadata": {},
     "output_type": "execute_result"
    },
    {
     "data": {
      "image/png": "[encoded data removed]",
      "text/plain": [
       "<Figure size 432x216 with 2 Axes>"
      ]
     },
     "metadata": {
      "needs_background": "light"
     },
     "output_type": "display_data"
    }
   ],
   "source": [
    "# ver influência da idade na probabilidade de sobrevivência\n",
    "age_survived = sns.FacetGrid(train, col='Survived')\n",
    "age_survived.map(sns.distplot, 'Age')"
   ]
  },
  {
   "cell_type": "code",
   "execution_count": 109,
   "id": "ccb4a3f1",
   "metadata": {},
   "outputs": [
    {
     "data": {
      "image/png": "[encoded data removed]",
      "text/plain": [
       "<Figure size 1080x720 with 16 Axes>"
      ]
     },
     "metadata": {
      "needs_background": "light"
     },
     "output_type": "display_data"
    }
   ],
   "source": [
    "# plotar uma scatter matrix\n",
    "columns = ['Parch', 'SibSp', 'Age', 'Pclass']\n",
    "pd.plotting.scatter_matrix(train[columns], figsize=(15,10));"
   ]
  },
  {
   "cell_type": "code",
   "execution_count": 110,
   "id": "7b1d10db",
   "metadata": {},
   "outputs": [
    {
     "data": {
      "text/plain": [
       "<AxesSubplot:>"
      ]
     },
     "execution_count": 110,
     "metadata": {},
     "output_type": "execute_result"
    },
    {
     "data": {
      "image/png": "[encoded data removed]",
      "text/plain": [
       "<Figure size 432x288 with 2 Axes>"
      ]
     },
     "metadata": {
      "needs_background": "light"
     },
     "output_type": "display_data"
    }
   ],
   "source": [
    "# plotar o heatmap para as variáveis numéricas\n",
    "sns.heatmap(train.corr(), cmap='coolwarm', fmt='.2f', linewidths=0.1,\n",
    "           vmax=1.0, square=True, linecolor='white', annot=True)"
   ]
  },
  {
   "cell_type": "markdown",
   "id": "23b0e520",
   "metadata": {},
   "source": [
    "Pouca gente sabe que o método ```df.describe()``` pode ser usado também para ver algo sobre a estatística descritiva em colunas que não são números. Para isso, é só passar o argumento ```include=['O']```. \n",
    "\n",
    "**ATENÇÃO, é a letra 'O', e não o número 0!**"
   ]
  },
  {
   "cell_type": "code",
   "execution_count": 111,
   "id": "fabd2602",
   "metadata": {},
   "outputs": [
    {
     "data": {
      "text/html": [
       "<div>\n",
       "<style scoped>\n",
       "    .dataframe tbody tr th:only-of-type {\n",
       "        vertical-align: middle;\n",
       "    }\n",
       "\n",
       "    .dataframe tbody tr th {\n",
       "        vertical-align: top;\n",
       "    }\n",
       "\n",
       "    .dataframe thead th {\n",
       "        text-align: right;\n",
       "    }\n",
       "</style>\n",
       "<table border=\"1\" class=\"dataframe\">\n",
       "  <thead>\n",
       "    <tr style=\"text-align: right;\">\n",
       "      <th></th>\n",
       "      <th>Name</th>\n",
       "      <th>Sex</th>\n",
       "      <th>Ticket</th>\n",
       "      <th>Cabin</th>\n",
       "      <th>Embarked</th>\n",
       "    </tr>\n",
       "  </thead>\n",
       "  <tbody>\n",
       "    <tr>\n",
       "      <th>count</th>\n",
       "      <td>891</td>\n",
       "      <td>891</td>\n",
       "      <td>891</td>\n",
       "      <td>204</td>\n",
       "      <td>889</td>\n",
       "    </tr>\n",
       "    <tr>\n",
       "      <th>unique</th>\n",
       "      <td>891</td>\n",
       "      <td>2</td>\n",
       "      <td>681</td>\n",
       "      <td>147</td>\n",
       "      <td>3</td>\n",
       "    </tr>\n",
       "    <tr>\n",
       "      <th>top</th>\n",
       "      <td>Braund, Mr. Owen Harris</td>\n",
       "      <td>male</td>\n",
       "      <td>347082</td>\n",
       "      <td>B96 B98</td>\n",
       "      <td>S</td>\n",
       "    </tr>\n",
       "    <tr>\n",
       "      <th>freq</th>\n",
       "      <td>1</td>\n",
       "      <td>577</td>\n",
       "      <td>7</td>\n",
       "      <td>4</td>\n",
       "      <td>644</td>\n",
       "    </tr>\n",
       "  </tbody>\n",
       "</table>\n",
       "</div>"
      ],
      "text/plain": [
       "                           Name   Sex  Ticket    Cabin Embarked\n",
       "count                       891   891     891      204      889\n",
       "unique                      891     2     681      147        3\n",
       "top     Braund, Mr. Owen Harris  male  347082  B96 B98        S\n",
       "freq                          1   577       7        4      644"
      ]
     },
     "execution_count": 111,
     "metadata": {},
     "output_type": "execute_result"
    }
   ],
   "source": [
    "train.describe(include=['O'])"
   ]
  },
  {
   "cell_type": "markdown",
   "id": "42bd8363",
   "metadata": {},
   "source": [
    "Olhando esses dados a gente observa que:\n",
    "* Os valores para ```Name``` são únicos, um para cada pessoa;\n",
    "* Não há *missing values* para ```Name``` e ```Sex```;\n",
    "* Existem apenas os sexos Masculino e Feminino, sendo que o com maior frequência é o Masculino (577/891 = 65%);\n",
    "* O Porto no qual embarcaram mais passageiros é o de S = Southampton."
   ]
  },
  {
   "cell_type": "markdown",
   "id": "3bfa4af0",
   "metadata": {},
   "source": [
    "## 4 Preparação dos Dados\n",
    "\n",
    "Até o presente momento, tudo o que fizemos foi importar os dados para estruturas *DataFrame*, formular hipóteses, iniciar uma análise exploratória dos dados e visualizar graficos e correlações entre aquelas variáveis que julgamos pertinente.\n",
    "\n",
    "Um projeto de data science não é amarrado e rigoroso, onde a gente segue um passo-a-passo linear, mas sim um processo iterativo, onde a gente vai e volta sempre que for necessário.\n",
    "\n",
    "Quando a gente pega o *notebook* de alguém, fica sempre a impressão que está bem estruturado e que foi \"direto ao ponto*. No entanto, antes de trazer uma versão bonitinha, eu vou e volto ao começo inúmeras vezes!\n",
    "\n",
    "Lembre-se disso: uma versão final é uma versão que foi reescrita várias vezes. Vá e volte ao começo sempre que precisar para adicionar informações novas que fizeram sentido :)\n",
    "\n",
    "### Juntando os *datasets* de treino e teste\n",
    "\n",
    "Uma dica para quando você vai preparar os dados para um modelo de *Machine Learning* é juntar os *datasets* de treino e teste em um único, e separar novamente no final.\n",
    "\n",
    "Muitas vezes a gente vai fazer um *feature engineering*, criar variáveis *dummy* ou codificar as variáveis. Daí, nosso modelo vai ser treinado em cima dessa arquitetura, e os dados de teste vão ter que seguir essa mesma estrutura.\n",
    "\n",
    "Por isso, é muito mais fácil fazer todas as etapas para um único *DataFrame* e dividir novamente entre treino e teste."
   ]
  },
  {
   "cell_type": "code",
   "execution_count": 112,
   "id": "40fd98a7",
   "metadata": {},
   "outputs": [
    {
     "name": "stdout",
     "output_type": "stream",
     "text": [
      "df_merged.shape: (1309 x 11)\n"
     ]
    }
   ],
   "source": [
    "# salvar os índices dos datasets para recuperação posterior\n",
    "train_idx = train.shape[0]\n",
    "test_idx = test.shape[0]\n",
    "\n",
    "# salvar PassengerId para submissao ao Kaggle\n",
    "passengerId = test['PassengerId']\n",
    "\n",
    "# extrair coluna 'Survived' e excluir ela do dataset treino\n",
    "target = train['Survived'].copy()\n",
    "train.drop(['Survived'], axis=1, inplace=True)\n",
    "\n",
    "# concatenar treino e teste em um único DataFrame\n",
    "df_merged = pd.concat(objs=[train, test], axis=0).reset_index(drop=True)\n",
    "\n",
    "print(\"df_merged.shape: ({} x {})\".format(df_merged.shape[0], df_merged.shape[1]))"
   ]
  },
  {
   "cell_type": "markdown",
   "id": "4846209a",
   "metadata": {},
   "source": [
    "### Selecionar as *features*"
   ]
  },
  {
   "cell_type": "markdown",
   "id": "17c65328",
   "metadata": {},
   "source": [
    "Como qualquer conjunto de dados do mundo real, você vai se deparar sempre com dados que não servem para nada e outros que não tem peso ou significância nenhuma no seu modelo.\n",
    "\n",
    "Muitas vezes nosso julgamento pode ser equivocado, mas infelizmente é papel seu, como cientista de dados, escolher quais *features* serão usadas para o modelo de *Machine Learning*.\n",
    "\n",
    "No nosso caso, vamos desconsiderar as variáveis ```['PassengerId', 'Name', 'Ticket', 'Cabin']```, pois **aparentemente** não parecem relevantes."
   ]
  },
  {
   "cell_type": "code",
   "execution_count": 113,
   "id": "d5021c42",
   "metadata": {},
   "outputs": [],
   "source": [
    "df_merged.drop(['PassengerId', 'Name', 'Ticket', 'Cabin'], axis = 1, inplace = True)"
   ]
  },
  {
   "cell_type": "markdown",
   "id": "dd6e14f5",
   "metadata": {},
   "source": [
    "Assim, ficamos com as seguintes variáveis a serem tratadas e preparadas: ```['Pclass', 'Sex', 'Age', 'SibSp', 'Parch', 'Fare', 'Embarked']```."
   ]
  },
  {
   "cell_type": "markdown",
   "id": "4fa4098a",
   "metadata": {},
   "source": [
    "### Valores faltante"
   ]
  },
  {
   "cell_type": "markdown",
   "id": "ebed22d9",
   "metadata": {},
   "source": [
    "Vamos dar uma olhada nos valores que faltam em cada columna e tratar esses campos vazios.\n",
    "\n",
    "Normalmente, há duas abordagens mais utilizadas quando a gente encontra *missing values*:\n",
    "* Preencher esses valores arbitrariamente (média, mediana, valor mais frequente); e\n",
    "* Excluir a linha inteira.\n",
    "\n",
    "Cada caso é um caso e novamente você, cientista de dados, é quem vai tomar a decisão sobre qual passo seguir.\n",
    "\n",
    "Na maioria das vezes não é desejável jogar informação de uma linha inteira só por causa de um campo faltando. Sempre que possível é melhor você preencher o campo, e é isso que vamos fazer."
   ]
  },
  {
   "cell_type": "code",
   "execution_count": 114,
   "id": "7729316c",
   "metadata": {},
   "outputs": [
    {
     "data": {
      "text/plain": [
       "Pclass        0\n",
       "Sex           0\n",
       "Age         263\n",
       "SibSp         0\n",
       "Parch         0\n",
       "Fare          1\n",
       "Embarked      2\n",
       "dtype: int64"
      ]
     },
     "execution_count": 114,
     "metadata": {},
     "output_type": "execute_result"
    }
   ],
   "source": [
    "# completar ou apagar valores faltantes nos datasets de treino e teste\n",
    "df_merged.isnull().sum()"
   ]
  },
  {
   "cell_type": "markdown",
   "id": "447e05b1",
   "metadata": {},
   "source": [
    "Para as variáveis idade e tarifa, vou colocar o valor da mediana, e para a variável do porto de embarque, vou colocar o valor com maior frequência."
   ]
  },
  {
   "cell_type": "code",
   "execution_count": 115,
   "id": "5dc4f624",
   "metadata": {},
   "outputs": [],
   "source": [
    "# age\n",
    "age_median = df_merged['Age'].median()\n",
    "df_merged['Age'].fillna(age_median, inplace = True)\n",
    "\n",
    "# fare\n",
    "fare_median = df_merged['Fare'].median()\n",
    "df_merged['Fare'].fillna(fare_median, inplace = True)\n",
    "\n",
    "# embark \n",
    "embarked_top = df_merged['Embarked'].value_counts()[0]\n",
    "df_merged['Embarked'].fillna(embarked_top, inplace = True)"
   ]
  },
  {
   "cell_type": "markdown",
   "id": "9e5b5e6a",
   "metadata": {},
   "source": [
    "### Preparar as variáveis pro modelo\n",
    "\n",
    "O modelo matemático exige que trabalhemos com variáveis numéricas, ou seja, temos transformar os dados de entrada que estão em formato categoria para números.\n",
    "\n",
    "Como você vê abaixo, eu convertir os valores possíveis de ```Sex```para ```{'male': 0, 'female': 1}```. Já em relação à variável ```Embarked```, apliquei o conceito de variáveis dummies.\n",
    "\n",
    "As variáveis dummies (*dummy variables*) assumem aqui apenas valores 0 e 1, criando uma nova coluna para cada valor possível da variável categórica. Para ficar mais fácil entender, veja como fica o *DataFrame* após todos esses tratamentos:"
   ]
  },
  {
   "cell_type": "code",
   "execution_count": 116,
   "id": "6ce81b49",
   "metadata": {},
   "outputs": [
    {
     "data": {
      "text/html": [
       "<div>\n",
       "<style scoped>\n",
       "    .dataframe tbody tr th:only-of-type {\n",
       "        vertical-align: middle;\n",
       "    }\n",
       "\n",
       "    .dataframe tbody tr th {\n",
       "        vertical-align: top;\n",
       "    }\n",
       "\n",
       "    .dataframe thead th {\n",
       "        text-align: right;\n",
       "    }\n",
       "</style>\n",
       "<table border=\"1\" class=\"dataframe\">\n",
       "  <thead>\n",
       "    <tr style=\"text-align: right;\">\n",
       "      <th></th>\n",
       "      <th>Pclass</th>\n",
       "      <th>Sex</th>\n",
       "      <th>Age</th>\n",
       "      <th>SibSp</th>\n",
       "      <th>Parch</th>\n",
       "      <th>Fare</th>\n",
       "      <th>Embarked_914</th>\n",
       "      <th>Embarked_C</th>\n",
       "      <th>Embarked_Q</th>\n",
       "      <th>Embarked_S</th>\n",
       "    </tr>\n",
       "  </thead>\n",
       "  <tbody>\n",
       "    <tr>\n",
       "      <th>0</th>\n",
       "      <td>3</td>\n",
       "      <td>0</td>\n",
       "      <td>22.0</td>\n",
       "      <td>1</td>\n",
       "      <td>0</td>\n",
       "      <td>7.2500</td>\n",
       "      <td>0</td>\n",
       "      <td>0</td>\n",
       "      <td>0</td>\n",
       "      <td>1</td>\n",
       "    </tr>\n",
       "    <tr>\n",
       "      <th>1</th>\n",
       "      <td>1</td>\n",
       "      <td>1</td>\n",
       "      <td>38.0</td>\n",
       "      <td>1</td>\n",
       "      <td>0</td>\n",
       "      <td>71.2833</td>\n",
       "      <td>0</td>\n",
       "      <td>1</td>\n",
       "      <td>0</td>\n",
       "      <td>0</td>\n",
       "    </tr>\n",
       "    <tr>\n",
       "      <th>2</th>\n",
       "      <td>3</td>\n",
       "      <td>1</td>\n",
       "      <td>26.0</td>\n",
       "      <td>0</td>\n",
       "      <td>0</td>\n",
       "      <td>7.9250</td>\n",
       "      <td>0</td>\n",
       "      <td>0</td>\n",
       "      <td>0</td>\n",
       "      <td>1</td>\n",
       "    </tr>\n",
       "    <tr>\n",
       "      <th>3</th>\n",
       "      <td>1</td>\n",
       "      <td>1</td>\n",
       "      <td>35.0</td>\n",
       "      <td>1</td>\n",
       "      <td>0</td>\n",
       "      <td>53.1000</td>\n",
       "      <td>0</td>\n",
       "      <td>0</td>\n",
       "      <td>0</td>\n",
       "      <td>1</td>\n",
       "    </tr>\n",
       "    <tr>\n",
       "      <th>4</th>\n",
       "      <td>3</td>\n",
       "      <td>0</td>\n",
       "      <td>35.0</td>\n",
       "      <td>0</td>\n",
       "      <td>0</td>\n",
       "      <td>8.0500</td>\n",
       "      <td>0</td>\n",
       "      <td>0</td>\n",
       "      <td>0</td>\n",
       "      <td>1</td>\n",
       "    </tr>\n",
       "  </tbody>\n",
       "</table>\n",
       "</div>"
      ],
      "text/plain": [
       "   Pclass  Sex   Age  SibSp  Parch     Fare  Embarked_914  Embarked_C  \\\n",
       "0       3    0  22.0      1      0   7.2500             0           0   \n",
       "1       1    1  38.0      1      0  71.2833             0           1   \n",
       "2       3    1  26.0      0      0   7.9250             0           0   \n",
       "3       1    1  35.0      1      0  53.1000             0           0   \n",
       "4       3    0  35.0      0      0   8.0500             0           0   \n",
       "\n",
       "   Embarked_Q  Embarked_S  \n",
       "0           0           1  \n",
       "1           0           0  \n",
       "2           0           1  \n",
       "3           0           1  \n",
       "4           0           1  "
      ]
     },
     "metadata": {},
     "output_type": "display_data"
    }
   ],
   "source": [
    "# converter 'Sex' em 0 e 1\n",
    "df_merged['Sex'] = df_merged['Sex'].map({'male': 0, 'female': 1})\n",
    "\n",
    "# dummie variables para 'Embaked'\n",
    "embarked_dummies = pd.get_dummies(df_merged['Embarked'], prefix='Embarked')\n",
    "df_merged = pd.concat([df_merged, embarked_dummies], axis=1)\n",
    "df_merged.drop('Embarked', axis=1, inplace=True)\n",
    "\n",
    "display(df_merged.head())"
   ]
  },
  {
   "cell_type": "markdown",
   "id": "7f33d0ee",
   "metadata": {},
   "source": [
    "### Recuperando os datasets de treino e teste\n",
    "\n",
    "Aqui a gente acabou de preparar o *dataset* para o modelo e vou dividir ```df_merged``` em ```train``` e ```test```, exatamente como era no começo.\n",
    "\n",
    "Agora você consegue entender a razão da concatenação lá em cima. Teríamos trabalho dobrado e ainda teria o risco de errarmos em alguma etapa."
   ]
  },
  {
   "cell_type": "code",
   "execution_count": 117,
   "id": "2bcc7f6a",
   "metadata": {},
   "outputs": [],
   "source": [
    "# recuperar datasets de treino e teste\n",
    "train = df_merged.iloc[:train_idx]\n",
    "test = df_merged.iloc[:test_idx]"
   ]
  },
  {
   "cell_type": "markdown",
   "id": "c96770f7",
   "metadata": {},
   "source": [
    "## 5 Construção do Modelo e Avaliação"
   ]
  },
  {
   "cell_type": "markdown",
   "id": "9522c7b3",
   "metadata": {},
   "source": [
    "Eu vivo falando no meu [Instagram](http://instagram.com/carlos_melo.py) que a etapa mais demorada de qualquer projeto de *Data Science* é a Análise Exploratória de Dados e a preparação/tratamento deles.\n",
    "\n",
    "Todo cuidado que tivemos serviu para entender o problema, testar hipóteses e descartar dados desnecessários/redundantes.\n",
    "\n",
    "Com poucas linhas de código a gente consegue criar e otimizar modelos de *Machine Learning* básicos. Aqui, vamos construir dois:\n",
    "\n",
    "* Modelo de Regressão Logística\n",
    "* Modelo de Árvore de Decisão"
   ]
  },
  {
   "cell_type": "code",
   "execution_count": 118,
   "id": "bfa2e5d3",
   "metadata": {},
   "outputs": [],
   "source": [
    "# importar bibliotecas do modelo de Machine Learning\n",
    "from sklearn.linear_model import LogisticRegression\n",
    "from sklearn.tree import DecisionTreeClassifier"
   ]
  },
  {
   "cell_type": "code",
   "execution_count": 119,
   "id": "c8ae0bd6",
   "metadata": {},
   "outputs": [
    {
     "name": "stdout",
     "output_type": "stream",
     "text": [
      "Acurácia do modelo de Regressão Logística: 80.13\n"
     ]
    }
   ],
   "source": [
    "# criar um modelo de Regressão Logística\n",
    "lr_model = LogisticRegression(solver = 'liblinear')\n",
    "lr_model.fit(train, target)\n",
    "\n",
    "# verifiar a acurácia do modelo\n",
    "acc_logReg = round(lr_model.score(train, target) * 100, 2)\n",
    "print(\"Acurácia do modelo de Regressão Logística: {}\".format(acc_logReg))"
   ]
  },
  {
   "cell_type": "markdown",
   "id": "15185d10",
   "metadata": {},
   "source": [
    "Com praticamente duas linhas, construímos um modelo de Regressão Logística com acurácia de 80% em cima do conjunto de dados de treino.\n",
    "\n",
    "Esse resultado está excelente para um primeiro modelo. Vou aproveitar e fazer a previsão sobre o *dataset* de teste para submetermos ao [Kaggle](http://www.kaggle.com) e comparar o desempenho."
   ]
  },
  {
   "cell_type": "code",
   "execution_count": 120,
   "id": "d0de927f",
   "metadata": {},
   "outputs": [],
   "source": [
    "y_pred_lr = lr_model.predict(test)\n",
    "\n",
    "submission = pd.DataFrame({\n",
    "    \"PassengerId\": passengerId,\n",
    "    \"Survived\": y_pred_lr\n",
    "})\n",
    "\n",
    "# gerar arquivo csv\n",
    "submission.to_csv('./submission_lr.csv', index = False)"
   ]
  },
  {
   "cell_type": "code",
   "execution_count": 121,
   "id": "0ac90fd2",
   "metadata": {},
   "outputs": [
    {
     "name": "stdout",
     "output_type": "stream",
     "text": [
      "Successfully submitted to Titanic - Machine Learning from Disaster\n"
     ]
    },
    {
     "name": "stderr",
     "output_type": "stream",
     "text": [
      "\n",
      "  0%|          | 0.00/3.18k [00:00<?, ?B/s]\n",
      "100%|##########| 3.18k/3.18k [00:00<00:00, 28.4kB/s]\n",
      "100%|##########| 3.18k/3.18k [00:01<00:00, 1.71kB/s]\n"
     ]
    }
   ],
   "source": [
    "!kaggle competitions submit -c titanic -f submission_lr.csv -m \"Message\""
   ]
  },
  {
   "cell_type": "markdown",
   "id": "814a9846",
   "metadata": {},
   "source": [
    "Como você vê na figura abaixo, nosso modelo conseguiu atingir um *score* de 75%. \n",
    "\n",
    "<img src=\"img/kaggle_lr.png\" width=\"80%\">\n",
    "\n",
    "Não é incomum termos desempenho inferior quando submetemos as previsões, pois nosso modelo foi treinado 100% em cima do conjunto de treino: isso significa que ele tem um *fit* bem melhor ao *dataset train*.\n",
    "\n",
    "Vamos ver como se sai um modelo baseado em Árvores de Decisão, seguindo os mesmo passos."
   ]
  },
  {
   "cell_type": "code",
   "execution_count": 122,
   "id": "c2541440",
   "metadata": {},
   "outputs": [
    {
     "name": "stdout",
     "output_type": "stream",
     "text": [
      "Acurácia do modelo de Árvore de Decisão: 82.72\n"
     ]
    }
   ],
   "source": [
    "# criar um modelo de árvore de decisão\n",
    "tree_model = DecisionTreeClassifier(max_depth = 3)\n",
    "tree_model.fit(train, target)\n",
    "\n",
    "# verificar a acurácia do modelo\n",
    "acc_tree = round(tree_model.score(train, target) * 100, 2)\n",
    "print(\"Acurácia do modelo de Árvore de Decisão: {}\".format(acc_tree))"
   ]
  },
  {
   "cell_type": "markdown",
   "id": "10fb886f",
   "metadata": {},
   "source": [
    "Um pequeno ganho na acurácia, chegando agora a quase 83%. Novamente vou gerar um arquivo e submeter o resultado ao [Kaggle](http://www.kaggle.com)."
   ]
  },
  {
   "cell_type": "code",
   "execution_count": 123,
   "id": "813dd1f4",
   "metadata": {},
   "outputs": [],
   "source": [
    "y_pred_tree = tree_model.predict(test)\n",
    "\n",
    "submission = pd.DataFrame({\n",
    "    \"PassengerId\": passengerId,\n",
    "    \"Survived\": y_pred_tree\n",
    "})\n",
    "\n",
    "# gerar arquivo csv\n",
    "submission.to_csv('./submission_tree.csv', index = False)"
   ]
  },
  {
   "cell_type": "code",
   "execution_count": 124,
   "id": "62f77c0a",
   "metadata": {},
   "outputs": [
    {
     "name": "stdout",
     "output_type": "stream",
     "text": [
      "Successfully submitted to Titanic - Machine Learning from Disaster\n"
     ]
    },
    {
     "name": "stderr",
     "output_type": "stream",
     "text": [
      "\n",
      "  0%|          | 0.00/3.18k [00:00<?, ?B/s]\n",
      "100%|##########| 3.18k/3.18k [00:00<00:00, 29.7kB/s]\n",
      "100%|##########| 3.18k/3.18k [00:01<00:00, 1.72kB/s]\n"
     ]
    }
   ],
   "source": [
    "!kaggle competitions submit -c titanic -f submission_tree.csv -m \"Message\""
   ]
  },
  {
   "cell_type": "markdown",
   "id": "09bff293",
   "metadata": {},
   "source": [
    "Como você vê na figura abaixo, nosso modelo conseguiu atingir um *score* de 75%. \n",
    "\n",
    "<img src=\"img/kaggle_tree.png\" width=\"80%\">\n",
    "\n",
    "Seguindo a previsão, melhoramos a nossa performance em cima do conjunto de testes também, obtendo um *score* de 78%.\n",
    "\n",
    "### Eu sobreviveria ao Titanic?\n",
    "\n",
    "Por fim, já que nosso modelo está pronto, vamos ver se eu e minha esposa sobreviveríamos ao naufrágio do Titanic.\n",
    "\n",
    "Vou considerar que viajaríamos na 2ª Classe, eu com 35 anos e ela com 30, levando nosso bebê Theo, tendo pago o preço médio do Ticket e embarcados no porto de Southampton (Reino Unido)."
   ]
  },
  {
   "cell_type": "code",
   "execution_count": 125,
   "id": "baf3fb70",
   "metadata": {},
   "outputs": [
    {
     "name": "stdout",
     "output_type": "stream",
     "text": [
      "Andre:\t0\n",
      "Amanda:\t1\n"
     ]
    },
    {
     "name": "stderr",
     "output_type": "stream",
     "text": [
      "C:\\Users\\ANDRE\\anaconda3\\lib\\site-packages\\sklearn\\base.py:450: UserWarning: X does not have valid feature names, but DecisionTreeClassifier was fitted with feature names\n",
      "  warnings.warn(\n",
      "C:\\Users\\ANDRE\\anaconda3\\lib\\site-packages\\sklearn\\base.py:450: UserWarning: X does not have valid feature names, but DecisionTreeClassifier was fitted with feature names\n",
      "  warnings.warn(\n"
     ]
    }
   ],
   "source": [
    "# declarar os valores das variáveis para mim e minha esposa\n",
    "andre = np.array([2, 0, 33, 1, 1, 32.2, 0, 0, 0, 1]).reshape((1, -1))\n",
    "amanda = np.array([2, 1, 31, 1, 1, 32.2, 0, 0, 0, 1]).reshape((1, -1))\n",
    "\n",
    "# verificar se nós teríamos sobrevivido\n",
    "print(\"Andre:\\t{}\".format(tree_model.predict(andre)[0]))\n",
    "print(\"Amanda:\\t{}\".format(tree_model.predict(amanda)[0]))"
   ]
  },
  {
   "cell_type": "markdown",
   "id": "99cd176b",
   "metadata": {},
   "source": [
    "Infelizmente, de acordo com meu próprio modelo, eu não teria sobrevivido ao desastre do Titanic. Já minha esposa foi classificada como sobrevivente. Parece que a realidade retratada no filme de James Cameron traz algumas verdades.\n",
    "\n",
    "Espero que tenha aproveitado este artigo e consiga replicar no seu computador.\n",
    "\n",
    "Com a sua evolução natural, você consegue cada vez mais trabalhar dados e parâmetros, além de aplicar conceitos como *feature engineering*, para obter resultados cada vez melhores.\n",
    "\n",
    "Fato é, o desafio do Titanic é a melhor escolha para quem está começando no Data Science, e já abre sua mente para outros tipos de problemas :)"
   ]
  },
  {
   "cell_type": "code",
   "execution_count": null,
   "id": "36f1e3f8",
   "metadata": {},
   "outputs": [],
   "source": []
  }
 ],
 "metadata": {
  "kernelspec": {
   "display_name": "Python 3 (ipykernel)",
   "language": "python",
   "name": "python3"
  },
  "language_info": {
   "codemirror_mode": {
    "name": "ipython",
    "version": 3
   },
   "file_extension": ".py",
   "mimetype": "text/x-python",
   "name": "python",
   "nbconvert_exporter": "python",
   "pygments_lexer": "ipython3",
   "version": "3.9.12"
  }
 },
 "nbformat": 4,
 "nbformat_minor": 5
}
